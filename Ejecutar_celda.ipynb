{
  "nbformat": 4,
  "nbformat_minor": 0,
  "metadata": {
    "colab": {
      "provenance": [],
      "authorship_tag": "ABX9TyOJjKTySu7X9uFY9pdgdAQm",
      "include_colab_link": true
    },
    "kernelspec": {
      "name": "python3",
      "display_name": "Python 3"
    },
    "language_info": {
      "name": "python"
    }
  },
  "cells": [
    {
      "cell_type": "markdown",
      "metadata": {
        "id": "view-in-github",
        "colab_type": "text"
      },
      "source": [
        "<a href=\"https://colab.research.google.com/github/ovapichi/laboratorio-automatico/blob/main/Ejecutar_celda.ipynb\" target=\"_parent\"><img src=\"https://colab.research.google.com/assets/colab-badge.svg\" alt=\"Open In Colab\"/></a>"
      ]
    },
    {
      "cell_type": "code",
      "execution_count": 1,
      "metadata": {
        "colab": {
          "base_uri": "https://localhost:8080/"
        },
        "id": "o2w0gmT0dIm7",
        "outputId": "9c08203d-81cd-4215-e98a-9d8fa7ac53de"
      },
      "outputs": [
        {
          "output_type": "stream",
          "name": "stdout",
          "text": [
            "Cloning into 'laboratorio-automatico'...\n",
            "remote: Enumerating objects: 58, done.\u001b[K\n",
            "remote: Counting objects: 100% (58/58), done.\u001b[K\n",
            "remote: Compressing objects: 100% (57/57), done.\u001b[K\n",
            "remote: Total 58 (delta 28), reused 0 (delta 0), pack-reused 0\u001b[K\n",
            "Receiving objects: 100% (58/58), 19.20 KiB | 3.20 MiB/s, done.\n",
            "Resolving deltas: 100% (28/28), done.\n"
          ]
        }
      ],
      "source": [
        "!git clone \"https://github.com/ovapichi/laboratorio-automatico.git\""
      ]
    },
    {
      "cell_type": "code",
      "source": [
        "%run \"/content/laboratorio-automatico/Fpdf.ipynb\"\n",
        "%run \"/content/laboratorio-automatico/Navegador.ipynb\"\n",
        "%run '/content/laboratorio-automatico/Análisis_de_Celda_de_Carga.ipynb'"
      ],
      "metadata": {
        "id": "2CH0IH0vdPYf",
        "colab": {
          "base_uri": "https://localhost:8080/"
        },
        "outputId": "ea4257be-adfe-4580-9824-63a59334e7d0"
      },
      "execution_count": 2,
      "outputs": [
        {
          "output_type": "stream",
          "name": "stdout",
          "text": [
            "Collecting fpdf\n",
            "  Downloading fpdf-1.7.2.tar.gz (39 kB)\n",
            "  Preparing metadata (setup.py) ... \u001b[?25l\u001b[?25hdone\n",
            "Building wheels for collected packages: fpdf\n",
            "  Building wheel for fpdf (setup.py) ... \u001b[?25l\u001b[?25hdone\n",
            "  Created wheel for fpdf: filename=fpdf-1.7.2-py2.py3-none-any.whl size=40703 sha256=4943c76476b98b610cd02957dd10f867669200609aa582b01169f0ad827ce3d9\n",
            "  Stored in directory: /root/.cache/pip/wheels/f9/95/ba/f418094659025eb9611f17cbcaf2334236bf39a0c3453ea455\n",
            "Successfully built fpdf\n",
            "Installing collected packages: fpdf\n",
            "Successfully installed fpdf-1.7.2\n",
            "fatal: destination path 'laboratorio-automatico' already exists and is not an empty directory.\n",
            "Requirement already satisfied: fpdf in /usr/local/lib/python3.10/dist-packages (1.7.2)\n",
            "Mounted at /content/drive\n"
          ]
        }
      ]
    },
    {
      "cell_type": "code",
      "source": [
        "import fpdf as FPDF\n",
        "from datetime import datetime\n",
        "import pandas as pd\n",
        "import numpy as np\n",
        "from fpdf import FPDF\n",
        "from google.colab import drive, files\n",
        "import shutil\n",
        "drive.mount('/content/drive')"
      ],
      "metadata": {
        "colab": {
          "base_uri": "https://localhost:8080/"
        },
        "id": "BGxG1lWWdQGQ",
        "outputId": "417f0314-0aeb-438a-bddb-0788acd5bb7d"
      },
      "execution_count": 3,
      "outputs": [
        {
          "output_type": "stream",
          "name": "stdout",
          "text": [
            "Drive already mounted at /content/drive; to attempt to forcibly remount, call drive.mount(\"/content/drive\", force_remount=True).\n"
          ]
        }
      ]
    },
    {
      "cell_type": "code",
      "source": [
        "lista=[]\n",
        "lista_de_direcciones=[]\n",
        "direccion='/content/drive/Shareddrives/Sociedad Hebraica Argentina/2022/09_2022/Datos/Celda/Procesados'\n",
        "direccion_final='/content/drive/Shareddrives/Sociedad Hebraica Argentina/2022/09_2022/informes individuales/celda'\n",
        "lista=leer_carpeta(direccion)\n",
        "lista_de_direcciones=lista_direcciones(lista,direccion)\n",
        "#print(lista_de_direcciones)\n",
        "\n",
        "for i,e in zip(lista_de_direcciones,lista):\n",
        "  df=pd.read_csv(i)\n",
        "  pdf = PDF(\"p\",\"cm\",\"A4\")\n",
        "  jugadora=e[:-4] + \" Celda Septiembre 2022\"\n",
        "  print(jugadora)\n",
        "  previa=Celda(df['cuadDer'][0],df['cuadIzq'][0],df['isqDer'][0],df['isqIzq'][0])\n",
        "  previa.ejecutar()\n",
        "  exportar(jugadora,direccion_final)\n"
      ],
      "metadata": {
        "colab": {
          "base_uri": "https://localhost:8080/"
        },
        "id": "oCPj9eCqdvY7",
        "outputId": "7589aef8-c2d3-4124-e065-342da81374df"
      },
      "execution_count": 10,
      "outputs": [
        {
          "output_type": "stream",
          "name": "stdout",
          "text": [
            "Agustina Fridman Celda Septiembre 2022\n",
            "[58.9, 62.4, 21.4, 16.6, 0.94, 1.29, 0.36, 0.27]\n",
            "Aixa Martin Celda Septiembre 2022\n",
            "[92.1, 90.2, 29.4, 35.7, 1.02, 0.82, 0.32, 0.4]\n",
            "Brenda Naiara Hoffmann Celda Septiembre 2022\n",
            "[87.7, 78.1, 24.8, 19.2, 1.12, 1.29, 0.28, 0.25]\n",
            "Carolina Altman Celda Septiembre 2022\n",
            "[76.2, 73.7, 26.3, 27.8, 1.03, 0.95, 0.35, 0.38]\n",
            "Carolina Waisbord Celda Septiembre 2022\n",
            "[44.3, 45.3, 13.5, 26.3, 0.98, 0.51, 0.3, 0.58]\n",
            "Daniela Finkelstein Celda Septiembre 2022\n",
            "[51.4, 53.6, 19.1, 23.6, 0.96, 0.81, 0.37, 0.44]\n",
            "Delfina Vijnovsky Celda Septiembre 2022\n",
            "[37.6, 43.6, 15.5, 15.3, 0.86, 1.01, 0.41, 0.35]\n",
            "Emilia  Borenstein Celda Septiembre 2022\n",
            "[62.9, 60.5, 24.1, 35.6, 1.04, 0.68, 0.38, 0.59]\n",
            "Florencia Altman Celda Septiembre 2022\n",
            "[59.2, 48.3, 16.5, 22.6, 1.23, 0.73, 0.28, 0.47]\n",
            "Florencia Apfelbaum Celda Septiembre 2022\n",
            "[67.2, 59.0, 22.8, 19.0, 1.14, 1.2, 0.34, 0.32]\n",
            "Iara Feinstein Celda Septiembre 2022\n",
            "[50.3, 52.5, 22.1, 17.0, 0.96, 1.3, 0.44, 0.32]\n",
            "Iara Setton Celda Septiembre 2022\n",
            "[89.5, 82.1, 38.7, 28.9, 1.09, 1.34, 0.43, 0.35]\n",
            "Julieta Binsztok Celda Septiembre 2022\n",
            "[71.9, 60.4, 26.6, 21.9, 1.19, 1.21, 0.37, 0.36]\n",
            "Katherina Cohen Celda Septiembre 2022\n",
            "[82.6, 82.1, 27.6, 27.4, 1.01, 1.01, 0.33, 0.33]\n",
            "Larissa Barreto Celda Septiembre 2022\n",
            "[30.9, 34.3, 14.0, 15.7, 0.9, 0.89, 0.45, 0.46]\n",
            "Lucila Liscovsky Celda Septiembre 2022\n",
            "[49.6, 40.7, 19.7, 22.2, 1.22, 0.89, 0.4, 0.55]\n",
            "Magdalena Carrasco Celda Septiembre 2022\n",
            "[52.1, 49.7, 18.4, 19.8, 1.05, 0.93, 0.35, 0.4]\n",
            "Micaela Duek Celda Septiembre 2022\n",
            "[55.2, 59.4, 20.5, 18.7, 0.93, 1.1, 0.37, 0.31]\n",
            "Naiara Moreno Celda Septiembre 2022\n",
            "[34.7, 50.1, 17.5, 19.2, 0.69, 0.91, 0.5, 0.38]\n",
            "Natalia Del Frari Crespo Celda Septiembre 2022\n",
            "[94.8, 92.2, 28.7, 33.7, 1.03, 0.85, 0.3, 0.37]\n",
            "Rocio Veleizan Celda Septiembre 2022\n",
            "[75.6, 78.9, 21.1, 22.8, 0.96, 0.93, 0.28, 0.29]\n",
            "Sabrina Lewin Celda Septiembre 2022\n",
            "[47.8, 47.9, 15.2, 20.8, 1.0, 0.73, 0.32, 0.43]\n",
            "Sofia Bez Celda Septiembre 2022\n",
            "[67.6, 68.3, 26.3, 28.8, 0.99, 0.91, 0.39, 0.42]\n",
            "Sofia Herman Celda Septiembre 2022\n",
            "[55.8, 60.2, 20.5, 16.6, 0.93, 1.23, 0.37, 0.28]\n"
          ]
        }
      ]
    }
  ]
}