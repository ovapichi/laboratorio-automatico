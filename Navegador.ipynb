{
  "nbformat": 4,
  "nbformat_minor": 0,
  "metadata": {
    "colab": {
      "provenance": [],
      "authorship_tag": "ABX9TyPW8VO7E0rNn3xQhxTRsb5F",
      "include_colab_link": true
    },
    "kernelspec": {
      "name": "python3",
      "display_name": "Python 3"
    },
    "language_info": {
      "name": "python"
    }
  },
  "cells": [
    {
      "cell_type": "markdown",
      "metadata": {
        "id": "view-in-github",
        "colab_type": "text"
      },
      "source": [
        "<a href=\"https://colab.research.google.com/github/ovapichi/laboratorio-automatico/blob/main/Navegador.ipynb\" target=\"_parent\"><img src=\"https://colab.research.google.com/assets/colab-badge.svg\" alt=\"Open In Colab\"/></a>"
      ]
    },
    {
      "cell_type": "code",
      "source": [
        "#lee una dirección y devuelve una lista ordenada con el nombre de cada cosa que tiene adentro, archivo o carpeta\n",
        "def leer_carpeta(direccion):\n",
        "  lista_archivos=[]\n",
        "  for nombre_archivo in os.listdir(direccion):\n",
        "    lista_archivos.append(nombre_archivo)\n",
        "  lista_archivos.sort()\n",
        "  #print(lista_archivos)\n",
        "  return lista_archivos\n",
        "\n",
        "'''import shutil\n",
        "#Exporta el pdf armado con FPDF\n",
        "def exportar_pdf(nombre,direccion_informes):\n",
        "  #print(nombre)\n",
        "  pdfFileName = nombre +'.pdf'\n",
        "  pdf.output(pdfFileName)\n",
        "  shutil.copy(pdfFileName,direccion_informes)\n",
        "  return'''"
      ],
      "metadata": {
        "colab": {
          "base_uri": "https://localhost:8080/"
        },
        "id": "ihpRnBzWn31i",
        "outputId": "fa7e566b-0ef4-42a8-9776-ccf64cf0b021"
      },
      "execution_count": 1,
      "outputs": [
        {
          "output_type": "stream",
          "name": "stdout",
          "text": [
            "Mounted at /content/drive\n"
          ]
        }
      ]
    }
  ]
}