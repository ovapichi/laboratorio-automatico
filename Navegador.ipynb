{
  "nbformat": 4,
  "nbformat_minor": 0,
  "metadata": {
    "colab": {
      "provenance": [],
      "authorship_tag": "ABX9TyOCPpRTAWcGYCWlVxCJGoqm",
      "include_colab_link": true
    },
    "kernelspec": {
      "name": "python3",
      "display_name": "Python 3"
    },
    "language_info": {
      "name": "python"
    }
  },
  "cells": [
    {
      "cell_type": "markdown",
      "metadata": {
        "id": "view-in-github",
        "colab_type": "text"
      },
      "source": [
        "<a href=\"https://colab.research.google.com/github/ovapichi/laboratorio-automatico/blob/main/Navegador.ipynb\" target=\"_parent\"><img src=\"https://colab.research.google.com/assets/colab-badge.svg\" alt=\"Open In Colab\"/></a>"
      ]
    },
    {
      "cell_type": "code",
      "source": [
        "#lee una dirección y devuelve una lista ordenada con el nombre de cada cosa que tiene adentro, archivo o carpeta\n",
        "import os\n",
        "def leer_carpeta(direccion):\n",
        "  lista_archivos=[]\n",
        "  for nombre_archivo in os.listdir(direccion):\n",
        "    lista_archivos.append(nombre_archivo)\n",
        "  lista_archivos.sort()\n",
        "  #print(lista_archivos)\n",
        "  return lista_archivos\n",
        "\n",
        "\n",
        "\n",
        "def lista_direcciones(lista,direccion):\n",
        "  lista_de_direcciones=[]\n",
        "  for item in lista:\n",
        "    lista_de_direcciones= direccion + \"/\" + item\n",
        "\n",
        "  return lista_de_direcciones\n"
      ],
      "metadata": {
        "colab": {
          "base_uri": "https://localhost:8080/"
        },
        "id": "ihpRnBzWn31i",
        "outputId": "fa7e566b-0ef4-42a8-9776-ccf64cf0b021"
      },
      "execution_count": null,
      "outputs": [
        {
          "output_type": "stream",
          "name": "stdout",
          "text": [
            "Mounted at /content/drive\n"
          ]
        }
      ]
    }
  ]
}