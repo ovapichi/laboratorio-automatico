{
  "nbformat": 4,
  "nbformat_minor": 0,
  "metadata": {
    "colab": {
      "provenance": [],
      "authorship_tag": "ABX9TyN2/tXJtPwWRg1H84lZA66F",
      "include_colab_link": true
    },
    "kernelspec": {
      "name": "python3",
      "display_name": "Python 3"
    },
    "language_info": {
      "name": "python"
    }
  },
  "cells": [
    {
      "cell_type": "markdown",
      "metadata": {
        "id": "view-in-github",
        "colab_type": "text"
      },
      "source": [
        "<a href=\"https://colab.research.google.com/github/ovapichi/laboratorio-automatico/blob/main/Win_Laborat.ipynb\" target=\"_parent\"><img src=\"https://colab.research.google.com/assets/colab-badge.svg\" alt=\"Open In Colab\"/></a>"
      ]
    },
    {
      "cell_type": "code",
      "execution_count": 2,
      "metadata": {
        "colab": {
          "base_uri": "https://localhost:8080/"
        },
        "id": "COoQKJgpOxNJ",
        "outputId": "7493eb69-ecc3-4b92-a1a5-f12421edcb28"
      },
      "outputs": [
        {
          "output_type": "stream",
          "name": "stdout",
          "text": [
            "Cloning into 'laboratorio-automatico'...\n",
            "remote: Enumerating objects: 6, done.\u001b[K\n",
            "remote: Counting objects: 100% (6/6), done.\u001b[K\n",
            "remote: Compressing objects: 100% (5/5), done.\u001b[K\n",
            "remote: Total 6 (delta 0), reused 0 (delta 0), pack-reused 0\u001b[K\n",
            "Receiving objects: 100% (6/6), done.\n"
          ]
        }
      ],
      "source": [
        "import pandas as pd\n",
        "df_individual = pd.DataFrame(index=[0],columns='cuad_der cuad_izq isq_der isq_izq'.split())\n",
        "df_equipo = pd.DataFrame()\n",
        "\n",
        "def celda_dat_csv(lista,direccion_dat,direccion_csv,direccion_equipo):\n",
        "    jugadora=[]\n",
        "    maximos=[]\n",
        "    musculo=[]\n",
        "\n",
        "    for archivo in lista:\n",
        "\n",
        "      df=pd.read_csv(direccion_dat+\"/\"+archivo,on_bad_lines='skip',sep = \"\\t\", decimal=\",\",header=None, encoding=\"utf-16\")\n",
        "      df=df.drop([0],axis=0)\n",
        "      df=df.drop([0,1,2], axis=1)\n",
        "      max=float(df[3].max())\n",
        "      maximos.append(max)\n",
        "      #print(max)\n",
        "\n",
        "      if archivo[-12:-4]==\"Cuad Der\":\n",
        "        musculo.append(\"Cuadriceps Derechos\")\n",
        "        jugadora.append(archivo[:-13])\n",
        "        df_individual['cuad_der'][0]=max\n",
        "      elif archivo[-12:-4]==\"Cuad Izq\":\n",
        "        musculo.append(\"Cuadriceps Izquierdos\")\n",
        "        jugadora.append(archivo[:-13])\n",
        "        df_individual['cuad_izq'][0]=max\n",
        "      elif archivo[-12:-4]==\" Isq Der\":\n",
        "        jugadora.append(archivo[:-12])\n",
        "        musculo.append(\"Isquios Derechos\")\n",
        "        df_individual['isq_der'][0]=max\n",
        "      elif archivo[-12:-4]==\" Isq Izq\":\n",
        "        jugadora.append(archivo[:-12])\n",
        "        musculo.append(\"Isquios Izquierdo\")\n",
        "        df_individual['isq_izq'][0]=max\n",
        "        df_equipo.append(df_individual)\n",
        "        df_individual.to_csv(direccion_csv+archivo[:-12]+\".csv\")\n",
        "\n",
        "\n",
        "#    df_equipo['jugadora']=jugadora\n",
        "#    df_equipo['maximos']=maximos\n",
        "#    df_equipo['musculo']=musculo\n",
        "#    df_equipo['tiempo']=5\n",
        "    df_equipo.to_csv(direccion_equipo+archivo[:-12]+\".csv\")\n",
        "\n",
        "    return"
      ]
    },
    {
      "cell_type": "code",
      "source": [],
      "metadata": {
        "id": "iaM8KsDZPFcH"
      },
      "execution_count": 4,
      "outputs": []
    },
    {
      "cell_type": "code",
      "source": [],
      "metadata": {
        "id": "0Q3BI2sOQO3b"
      },
      "execution_count": 6,
      "outputs": []
    },
    {
      "cell_type": "code",
      "source": [],
      "metadata": {
        "colab": {
          "base_uri": "https://localhost:8080/"
        },
        "id": "6Ine4fxnPYy3",
        "outputId": "9f62c89d-43f0-43ec-8848-c7126e1765a2"
      },
      "execution_count": 8,
      "outputs": [
        {
          "output_type": "execute_result",
          "data": {
            "text/plain": [
              "['.git', 'Navegador.ipynb', 'README.md']"
            ]
          },
          "metadata": {},
          "execution_count": 8
        }
      ]
    }
  ]
}