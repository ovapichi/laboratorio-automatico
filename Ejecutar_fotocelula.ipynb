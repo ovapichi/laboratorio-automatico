{
  "nbformat": 4,
  "nbformat_minor": 0,
  "metadata": {
    "colab": {
      "provenance": [],
      "authorship_tag": "ABX9TyNeO9OWAg9ZJS2O0rZ1HNfd",
      "include_colab_link": true
    },
    "kernelspec": {
      "name": "python3",
      "display_name": "Python 3"
    },
    "language_info": {
      "name": "python"
    }
  },
  "cells": [
    {
      "cell_type": "markdown",
      "metadata": {
        "id": "view-in-github",
        "colab_type": "text"
      },
      "source": [
        "<a href=\"https://colab.research.google.com/github/ovapichi/laboratorio-automatico/blob/main/Ejecutar_fotocelula.ipynb\" target=\"_parent\"><img src=\"https://colab.research.google.com/assets/colab-badge.svg\" alt=\"Open In Colab\"/></a>"
      ]
    },
    {
      "cell_type": "code",
      "execution_count": 1,
      "metadata": {
        "colab": {
          "base_uri": "https://localhost:8080/"
        },
        "id": "o2w0gmT0dIm7",
        "outputId": "f8439f83-abf2-445d-d305-d8c1090c2089"
      },
      "outputs": [
        {
          "output_type": "stream",
          "name": "stdout",
          "text": [
            "Cloning into 'laboratorio-automatico'...\n",
            "remote: Enumerating objects: 91, done.\u001b[K\n",
            "remote: Counting objects: 100% (91/91), done.\u001b[K\n",
            "remote: Compressing objects: 100% (90/90), done.\u001b[K\n",
            "remote: Total 91 (delta 49), reused 0 (delta 0), pack-reused 0\u001b[K\n",
            "Receiving objects: 100% (91/91), 29.92 KiB | 1.87 MiB/s, done.\n",
            "Resolving deltas: 100% (49/49), done.\n"
          ]
        }
      ],
      "source": [
        "!git clone \"https://github.com/ovapichi/laboratorio-automatico.git\""
      ]
    },
    {
      "cell_type": "code",
      "source": [
        "%run \"/content/laboratorio-automatico/Fpdf.ipynb\"\n",
        "%run \"/content/laboratorio-automatico/Navegador.ipynb\"\n",
        "%run '/content/laboratorio-automatico/Análisis_de_Velocidad.ipynb'"
      ],
      "metadata": {
        "id": "2CH0IH0vdPYf"
      },
      "execution_count": null,
      "outputs": []
    },
    {
      "cell_type": "code",
      "source": [
        "import fpdf as FPDF\n",
        "from datetime import datetime\n",
        "import pandas as pd\n",
        "import numpy as np\n",
        "from fpdf import FPDF\n",
        "from google.colab import drive, files\n",
        "import shutil\n",
        "drive.mount('/content/drive')"
      ],
      "metadata": {
        "colab": {
          "base_uri": "https://localhost:8080/"
        },
        "id": "BGxG1lWWdQGQ",
        "outputId": "afa9fedf-f2db-446b-bc2f-a6058fef3bef"
      },
      "execution_count": 3,
      "outputs": [
        {
          "output_type": "stream",
          "name": "stdout",
          "text": [
            "Drive already mounted at /content/drive; to attempt to forcibly remount, call drive.mount(\"/content/drive\", force_remount=True).\n"
          ]
        }
      ]
    },
    {
      "cell_type": "code",
      "source": [
        "lista=[]\n",
        "lista_de_direcciones=[]\n",
        "direccion='/content/drive/Shareddrives/Sociedad Hebraica Argentina/2023/11_2023/Datos/Velocidad/Crudos/velocidad noviembre crudo.xlsx'\n",
        "direccion_final='/content/drive/Shareddrives/Sociedad Hebraica Argentina/2023/11_2023/informes individuales/Velocidad'\n",
        "#lista=leer_carpeta(direccion)\n",
        "#lista_de_direcciones=lista_direcciones(lista,direccion)\n",
        "#print(lista_de_direcciones)\n",
        "df=pd.read_excel(direccion)\n",
        "largo=len(df)\n",
        "for line in range(largo):\n",
        "  pdf = PDF(\"p\",\"cm\",\"A4\")\n",
        "  jugadora_w=df['jugadora'][line] + \" Velocidad Noviembre 2023\"\n",
        "  jugadora=df['jugadora'][line]\n",
        "  if df['30 m'][line]>0:\n",
        "    fotocelula=Velocidad(df['peso'][line],df['5 m'][line],df['5 m'][line]+df['10 m'][line],df['5 m'][line]+df['10 m'][line]+df['20 m'][line],df['5 m'][line]+df['10 m'][line]+df['20 m'][line]+df['30 m'][line])\n",
        "    fotocelula.ejecutar()\n",
        "    exportar(jugadora_w,direccion_final)\n"
      ],
      "metadata": {
        "id": "oCPj9eCqdvY7"
      },
      "execution_count": 9,
      "outputs": []
    },
    {
      "cell_type": "code",
      "source": [
        "#for i,e in zip(lista_de_direcciones,lista):\n",
        "  pdf = PDF(\"p\",\"cm\",\"A4\")\n",
        "  jugadora=e[:-4] + \" Celda Septiembre 2022\"\n",
        "  print(jugadora)\n",
        "  previa=Celda(df['cuadDer'][0],df['cuadIzq'][0],df['isqDer'][0],df['isqIzq'][0])\n",
        "  previa.ejecutar()\n",
        "  exportar(jugadora,direccion_final)"
      ],
      "metadata": {
        "id": "4cKQ_1adNM0v"
      },
      "execution_count": null,
      "outputs": []
    }
  ]
}