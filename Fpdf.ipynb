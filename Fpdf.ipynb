{
  "nbformat": 4,
  "nbformat_minor": 0,
  "metadata": {
    "colab": {
      "provenance": [],
      "mount_file_id": "https://github.com/ovapichi/laboratorio-automatico/blob/main/Fpdf.ipynb",
      "authorship_tag": "ABX9TyNJJpJCcWbBwHlKAivfyzhz",
      "include_colab_link": true
    },
    "kernelspec": {
      "name": "python3",
      "display_name": "Python 3"
    },
    "language_info": {
      "name": "python"
    }
  },
  "cells": [
    {
      "cell_type": "markdown",
      "metadata": {
        "id": "view-in-github",
        "colab_type": "text"
      },
      "source": [
        "<a href=\"https://colab.research.google.com/github/ovapichi/laboratorio-automatico/blob/main/Fpdf.ipynb\" target=\"_parent\"><img src=\"https://colab.research.google.com/assets/colab-badge.svg\" alt=\"Open In Colab\"/></a>"
      ]
    },
    {
      "cell_type": "code",
      "source": [
        "pip install fpdf"
      ],
      "metadata": {
        "id": "lSvwe359d59s",
        "colab": {
          "base_uri": "https://localhost:8080/"
        },
        "outputId": "4a1a9b8b-f12d-4e47-d878-3cc9e409b3f2"
      },
      "execution_count": null,
      "outputs": [
        {
          "output_type": "stream",
          "name": "stdout",
          "text": [
            "Requirement already satisfied: fpdf in /usr/local/lib/python3.10/dist-packages (1.7.2)\n"
          ]
        }
      ]
    },
    {
      "cell_type": "code",
      "source": [
        "import fpdf as FPDF\n",
        "from datetime import datetime\n",
        "from fpdf import FPDF\n",
        "import shutil\n",
        "from tabulate import tabulate\n",
        "\n"
      ],
      "metadata": {
        "id": "romXxv5Adj8l"
      },
      "execution_count": null,
      "outputs": []
    },
    {
      "cell_type": "code",
      "source": [
        "''' pdf = PDF(\"p\",\"cm\",\"A4\")\n",
        "pdf.add_page()\n",
        "pdf.set_font(\"Arial\",size=10) '''"
      ],
      "metadata": {
        "id": "MuimHM9o37ik"
      },
      "execution_count": null,
      "outputs": []
    },
    {
      "cell_type": "code",
      "source": [
        "#encabezado y pie de página del pdf\n",
        "class PDF (FPDF):\n",
        "  def header(self):\n",
        "    self.image(\"/content/drive/Shareddrives/Sociedad Hebraica Argentina/Imágenes/logo unsam.png\",2,0.5,5) #Cambiar Logos\n",
        "    self.image(\"/content/drive/Shareddrives/Sociedad Hebraica Argentina/Imágenes/logo.png\",15,0.5,2.5)\n",
        "    self.set_font(\"arial\",\"B\",12)\n",
        "    self.set_text_color(50,175,175)\n",
        "    self.set_font(\"arial\",\"B\",10)\n",
        "    self.ln(12)\n",
        "  def footer(self):\n",
        "    self.set_y(-1)\n",
        "    self.set_font(\"arial\",\"\",12)\n",
        "    self.set_text_color(0,0,0)\n",
        "    self.cell(0,1,f'{self.page_no()}',align=\"R\")\n",
        "  def set_col(self, col):\n",
        "  # Set column position:\n",
        "    self.col = col\n",
        "    x = 0.50 + col * 2.5\n",
        "    self.set_left_margin(x)\n",
        "    self.set_x(x)\n",
        "\n",
        "  def add_table(self, header, data, width,multiple):\n",
        "        # Configurar la fuente y el tamaño\n",
        "    self.set_font('Arial', 'B', 14)\n",
        "    # Configurar la alineación al centro\n",
        "    self.set_text_color(0, 0, 0)\n",
        "    self.set_y(self.get_y() - 1)\n",
        "\n",
        "    # Configurar el color de fondo de las celdas del encabezado\n",
        "    self.set_fill_color(200, 220, 255)\n",
        "        # Agregar encabezados\n",
        "    for col in header:\n",
        "        self.cell(width, 1, col, 1, 0, 'C', 1)\n",
        "    self.ln()\n",
        "    self.set_font('Arial', '', 12)\n",
        "    # Restablecer el color de fondo a blanco\n",
        "    self.set_fill_color(255, 255, 255)\n",
        "        # Agregar datos\n",
        "    if multiple:\n",
        "      for row in data:\n",
        "          for col in row:\n",
        "              self.cell(width, 1, str(col), 1, 0, 'C')\n",
        "          self.ln()\n",
        "    else:\n",
        "      for row in data:\n",
        "        self.cell(width, 1, str(row), 1, 0, 'C')\n",
        "\n",
        "#Carátula del pdf\n",
        "\n",
        "def caratula(nombre,protocolo):\n",
        "  now = datetime.now()\n",
        "  hoy=now.date()\n",
        "  profesionales= [\"Lic. Toscano, Ana Paula\",'Lic. García Piccinini, Osvaldo']\n",
        "  pdf.set_y(4)\n",
        "  #pdf.set_text_color(50,175,175)\n",
        "  pdf.set_font(\"arial\",\"\",12)\n",
        "  pdf.image(\"/content/drive/Shareddrives/Sociedad Hebraica Argentina/Imágenes/informe.png\",12,5,10)\n",
        "  pdf.cell(0,5,f'Dirigido a: {nombre}' ,ln=2, align='l')\n",
        "  pdf.multi_cell(h=2, align='l', w=10, txt=f'Protocolo: {protocolo}\\n')\n",
        "  pdf.cell(0,5,f'{hoy}',ln=True, align='l')\n",
        "  pdf.add_page()\n",
        "  pdf.set_y(4)\n",
        "  pdf.set_text_color(0,0,0)\n",
        "  pdf.cell(2,2,f'Equipo profesional',ln=True, align='l')\n",
        "  for crack in profesionales:\n",
        "    pdf.cell(2,2,f'{crack}',ln=True, align='l')\n",
        "  #pdf.image(\"/content/drive/Shareddrives/Sociedad Hebraica Argentina/Imágenes/firmas lab.jpg\",5.5,16,10)\n",
        "  pdf.set_font(\"arial\",\"\",10)\n",
        "  pdf.multi_cell(h=0.5, align='L', w=0, txt='El equipo responsable del Laboratorio de Biomecánica Análisis Funcional del Movimiento y Rendimiento Humano queda a su disposición para el análisis conjunto del caso, su interpretación, tanto como las eventuales consideraciones de las conclusiones. \\nAgradecemos la confianza al permitirnos realizar esta evaluación. \\nLo saludamos cordialmente.')\n",
        "  return\n",
        "  # =================================BLOQUE DE FUNCIONES=================================================\n",
        "\n"
      ],
      "metadata": {
        "id": "AQQXTCOseDp8"
      },
      "execution_count": null,
      "outputs": []
    },
    {
      "cell_type": "code",
      "execution_count": null,
      "metadata": {
        "id": "aHvWPnIFdX2M"
      },
      "outputs": [],
      "source": [
        " #FALTA TERMINAR LA PARTE DEL ARCHIVO DEL JUGADOR\n",
        "\n",
        "\n",
        "def exportar(nombre,direccion_pdf):\n",
        "  #print(nombre)\n",
        "  pdfFileName = nombre +'.pdf'#NO EXPORTA EL PDF PROBLEMA EN LOS ARCHIVOS\n",
        "  pdf.output(pdfFileName)\n",
        "\n",
        "  shutil.copy(pdfFileName,direccion_pdf)\n",
        "  return\n"
      ]
    },
    {
      "cell_type": "code",
      "source": [
        "# pdf = PDF(\"p\",\"cm\",\"A4\")\n",
        "# pdf.add_page()\n",
        "# pdf.set_font(\"Arial\",size=10)\n",
        "\n",
        "# head=[\"uno\",\"dos\"]\n",
        "# data=[[1,2],[2,4]]\n",
        "# pdf.add_table(head,data)\n",
        "# pdf.ln()\n",
        "# pdf.ln()\n",
        "# pdf.add_table(head,data)\n",
        "\n",
        "# exportar(\"hola\",\"/content/sample_data\")"
      ],
      "metadata": {
        "id": "xs0lNc1d4QO8"
      },
      "execution_count": null,
      "outputs": []
    }
  ]
}