{
  "nbformat": 4,
  "nbformat_minor": 0,
  "metadata": {
    "colab": {
      "provenance": [],
      "mount_file_id": "https://github.com/ovapichi/laboratorio-automatico/blob/main/Fpdf.ipynb",
      "authorship_tag": "ABX9TyN+GxG3BcemN4Yc0cAWk7Jv",
      "include_colab_link": true
    },
    "kernelspec": {
      "name": "python3",
      "display_name": "Python 3"
    },
    "language_info": {
      "name": "python"
    }
  },
  "cells": [
    {
      "cell_type": "markdown",
      "metadata": {
        "id": "view-in-github",
        "colab_type": "text"
      },
      "source": [
        "<a href=\"https://colab.research.google.com/github/ovapichi/laboratorio-automatico/blob/main/Fpdf.ipynb\" target=\"_parent\"><img src=\"https://colab.research.google.com/assets/colab-badge.svg\" alt=\"Open In Colab\"/></a>"
      ]
    },
    {
      "cell_type": "code",
      "source": [
        "pip install fpdf"
      ],
      "metadata": {
        "id": "lSvwe359d59s",
        "colab": {
          "base_uri": "https://localhost:8080/"
        },
        "outputId": "453bc702-2465-497c-9dbe-504ddf476732"
      },
      "execution_count": 1,
      "outputs": [
        {
          "output_type": "stream",
          "name": "stdout",
          "text": [
            "Collecting fpdf\n",
            "  Downloading fpdf-1.7.2.tar.gz (39 kB)\n",
            "  Preparing metadata (setup.py) ... \u001b[?25l\u001b[?25hdone\n",
            "Building wheels for collected packages: fpdf\n",
            "  Building wheel for fpdf (setup.py) ... \u001b[?25l\u001b[?25hdone\n",
            "  Created wheel for fpdf: filename=fpdf-1.7.2-py2.py3-none-any.whl size=40703 sha256=c8ed8b749cb45c22da237fdedcd53814e64c72e47834fdb9bea9f709af78c2ba\n",
            "  Stored in directory: /root/.cache/pip/wheels/f9/95/ba/f418094659025eb9611f17cbcaf2334236bf39a0c3453ea455\n",
            "Successfully built fpdf\n",
            "Installing collected packages: fpdf\n",
            "Successfully installed fpdf-1.7.2\n"
          ]
        }
      ]
    },
    {
      "cell_type": "code",
      "source": [
        "import fpdf as FPDF\n",
        "from datetime import datetime\n",
        "from fpdf import FPDF\n",
        "import shutil\n",
        "from tabulate import tabulate\n",
        "\n"
      ],
      "metadata": {
        "id": "romXxv5Adj8l"
      },
      "execution_count": 4,
      "outputs": []
    },
    {
      "cell_type": "code",
      "source": [
        "''' pdf = PDF(\"p\",\"cm\",\"A4\")\n",
        "pdf.add_page()\n",
        "pdf.set_font(\"Arial\",size=10) '''"
      ],
      "metadata": {
        "id": "MuimHM9o37ik"
      },
      "execution_count": 6,
      "outputs": []
    },
    {
      "cell_type": "code",
      "source": [
        "#encabezado y pie de página del pdf\n",
        "class PDF (FPDF):\n",
        "  def header(self):\n",
        "    self.image(\"/content/drive/Shareddrives/Sociedad Hebraica Argentina/Imágenes/logo unsam.png\",2,0.5,5) #Cambiar Logos\n",
        "    self.image(\"/content/drive/Shareddrives/Sociedad Hebraica Argentina/Imágenes/logo.png\",15,0.5,2.5)\n",
        "    self.set_font(\"arial\",\"B\",12)\n",
        "    self.set_text_color(50,175,175)\n",
        "    self.set_font(\"arial\",\"B\",10)\n",
        "    self.ln(12)\n",
        "  def footer(self):\n",
        "    self.set_y(-1)\n",
        "    self.set_font(\"arial\",\"\",12)\n",
        "    self.set_text_color(0,0,0)\n",
        "    self.cell(0,1,f'{self.page_no()}',align=\"R\")\n",
        "  def set_col(self, col):\n",
        "  # Set column position:\n",
        "    self.col = col\n",
        "    x = 0.50 + col * 2.5\n",
        "    self.set_left_margin(x)\n",
        "    self.set_x(x)\n",
        "\n",
        "#Carátula del pdf\n",
        "\n",
        "def caratula(nombre,protocolo):\n",
        "  now = datetime.now()\n",
        "  hoy=now.date()\n",
        "  profesionales= [\"Lic. Toscano, Ana Paula\",'Lic. García Piccinini, Osvaldo']\n",
        "  pdf.set_y(4)\n",
        "  #pdf.set_text_color(50,175,175)\n",
        "  pdf.set_font(\"arial\",\"\",12)\n",
        "  pdf.image(\"/content/drive/Shareddrives/Sociedad Hebraica Argentina/Imágenes/informe.png\",12,5,2.5)\n",
        "  pdf.cell(0,5,f'Dirigido a: {nombre}' ,ln=2, align='l')\n",
        "  pdf.multi_cell(h=2, align='l', w=10, txt=f'Protocolo: {protocolo}\\n')\n",
        "  pdf.cell(0,5,f'{hoy}',ln=True, align='l')\n",
        "  pdf.add_page()\n",
        "  pdf.set_y(4)\n",
        "  pdf.set_text_color(0,0,0)\n",
        "  pdf.cell(2,2,f'Equipo profesional',ln=True, align='l')\n",
        "  for crack in profesionales:\n",
        "    pdf.cell(2,2,f'{crack}',ln=True, align='l')\n",
        "  #pdf.image(\"/content/drive/Shareddrives/Sociedad Hebraica Argentina/Imágenes/firmas lab.jpg\",5.5,16,10)\n",
        "  pdf.set_font(\"arial\",\"\",10)\n",
        "  pdf.multi_cell(h=0.5, align='L', w=0, txt='El equipo responsable del Laboratorio de Biomecánica Análisis Funcional del Movimiento y Rendimiento Humano queda a su disposición para el análisis conjunto del caso, su interpretación, tanto como las eventuales consideraciones de las conclusiones. \\nAgradecemos la confianza al permitirnos realizar esta evaluación. \\nLo saludamos cordialmente.')\n",
        "  return\n",
        "  # =================================BLOQUE DE FUNCIONES=================================================\n",
        "\n"
      ],
      "metadata": {
        "id": "AQQXTCOseDp8"
      },
      "execution_count": 26,
      "outputs": []
    },
    {
      "cell_type": "code",
      "execution_count": 7,
      "metadata": {
        "id": "aHvWPnIFdX2M"
      },
      "outputs": [],
      "source": [
        " #FALTA TERMINAR LA PARTE DEL ARCHIVO DEL JUGADOR\n",
        "\n",
        "\n",
        "def exportar(nombre,direccion_pdf):\n",
        "  #print(nombre)\n",
        "  pdfFileName = nombre +'.pdf'#NO EXPORTA EL PDF PROBLEMA EN LOS ARCHIVOS\n",
        "  pdf.output(pdfFileName)\n",
        "\n",
        "  shutil.copy(pdfFileName,direccion_pdf)\n",
        "  return\n"
      ]
    },
    {
      "cell_type": "code",
      "source": [
        "# pdf = PDF(\"p\",\"cm\",\"A4\")\n",
        "# pdf.add_page()\n",
        "# pdf.set_font(\"Arial\",size=10)\n",
        "# exportar(\"hola\",\"/content/sample_data\")"
      ],
      "metadata": {
        "id": "xs0lNc1d4QO8"
      },
      "execution_count": 27,
      "outputs": []
    }
  ]
}