{
  "nbformat": 4,
  "nbformat_minor": 0,
  "metadata": {
    "colab": {
      "provenance": [],
      "authorship_tag": "ABX9TyODC928KYTX7aiqgmfkW/uJ",
      "include_colab_link": true
    },
    "kernelspec": {
      "name": "python3",
      "display_name": "Python 3"
    },
    "language_info": {
      "name": "python"
    }
  },
  "cells": [
    {
      "cell_type": "markdown",
      "metadata": {
        "id": "view-in-github",
        "colab_type": "text"
      },
      "source": [
        "<a href=\"https://colab.research.google.com/github/ovapichi/laboratorio-automatico/blob/main/Fpdf.ipynb\" target=\"_parent\"><img src=\"https://colab.research.google.com/assets/colab-badge.svg\" alt=\"Open In Colab\"/></a>"
      ]
    },
    {
      "cell_type": "code",
      "source": [
        "pip install fpdf"
      ],
      "metadata": {
        "id": "lSvwe359d59s"
      },
      "execution_count": null,
      "outputs": []
    },
    {
      "cell_type": "code",
      "source": [
        "import fpdf as FPDF\n",
        "from datetime import datetime\n",
        "from fpdf import FPDF\n",
        "import shutil\n"
      ],
      "metadata": {
        "id": "romXxv5Adj8l"
      },
      "execution_count": null,
      "outputs": []
    },
    {
      "cell_type": "code",
      "source": [
        "#encabezado y pie de página del pdf\n",
        "class PDF (FPDF):\n",
        "  def header(self):\n",
        "    self.image(\"/content/drive/Shareddrives/Sociedad Hebraica Argentina/Imágenes/logo unsam.png\",2,0.5,2.5) #Cambiar Logos\n",
        "    self.image(\"/content/drive/Shareddrives/Sociedad Hebraica Argentina/Imágenes/logo.png\",15,0.5,2.5)\n",
        "    self.set_font(\"arial\",\"B\",12)\n",
        "    self.set_text_color(50,175,175)\n",
        "    self.set_font(\"arial\",\"B\",10)\n",
        "    self.ln(12)\n",
        "  def footer(self):\n",
        "    self.set_y(-1)\n",
        "    self.set_font(\"arial\",\"\",12)\n",
        "    self.set_text_color(0,0,0)\n",
        "    self.cell(0,1,f'{self.page_no()}',align=\"R\")\n",
        "  def set_col(self, col):\n",
        "  # Set column position:\n",
        "    self.col = col\n",
        "    x = 0.50 + col * 2.5\n",
        "    self.set_left_margin(x)\n",
        "    self.set_x(x)\n",
        "\n",
        "#Carátula del pdf\n",
        "\n",
        "def caratula(nombre,protocolo):\n",
        "  now = datetime.now()\n",
        "  hoy=now.date()\n",
        "  profesionales= [\"Lic. Toscano, Ana Paula\",'Lic. García Piccinini, Osvaldo']\n",
        "  pdf.set_y(4)\n",
        "  #pdf.set_text_color(50,175,175)\n",
        "  pdf.set_font(\"arial\",\"\",12)\n",
        "  pdf.image(\"/content/drive/Shareddrives/Sociedad Hebraica Argentina/Imágenes/informe.png\",12,5,2.5)\n",
        "  pdf.cell(0,5,f'Dirigido a: {nombre}' ,ln=2, align='l')\n",
        "  pdf.multi_cell(h=2, align='l', w=10, txt=f'Protocolo: {protocolo}\\n')\n",
        "  pdf.cell(0,5,f'{hoy}',ln=True, align='l')\n",
        "  pdf.add_page()\n",
        "  pdf.set_y(4)\n",
        "  pdf.set_text_color(0,0,0)\n",
        "  pdf.cell(2,2,f'Equipo profesional',ln=True, align='l')\n",
        "  for crack in profesionales:\n",
        "    pdf.cell(2,2,f'{crack}',ln=True, align='l')\n",
        "  #pdf.image(\"/content/drive/Shareddrives/Sociedad Hebraica Argentina/Imágenes/firmas lab.jpg\",5.5,16,10)\n",
        "  pdf.set_font(\"arial\",\"\",10)\n",
        "  pdf.multi_cell(h=0.5, align='L', w=0, txt='El equipo responsable del Laboratorio de Biomecánica Análisis Funcional del Movimiento y Rendimiento Humano queda a su disposición para el análisis conjunto del caso, su interpretación, tanto como las eventuales consideraciones de las conclusiones. \\nAgradecemos la confianza al permitirnos realizar esta evaluación. \\nLo saludamos cordialmente.')\n",
        "  return\n",
        "  # =================================BLOQUE DE FUNCIONES=================================================\n",
        "\n"
      ],
      "metadata": {
        "id": "AQQXTCOseDp8"
      },
      "execution_count": null,
      "outputs": []
    },
    {
      "cell_type": "code",
      "execution_count": null,
      "metadata": {
        "id": "aHvWPnIFdX2M"
      },
      "outputs": [],
      "source": [
        " #FALTA TERMINAR LA PARTE DEL ARCHIVO DEL JUGADOR\n",
        "\n",
        "\n",
        "def exportar(nombre,direccion_pdf):\n",
        "  #print(nombre)\n",
        "  pdfFileName = nombre +'.pdf'#NO EXPORTA EL PDF PROBLEMA EN LOS ARCHIVOS\n",
        "  pdf.output(pdfFileName)\n",
        "\n",
        "  shutil.copy(pdfFileName,direccion_pdf)\n",
        "  return\n",
        "\n",
        "def armar_pdf(club,direccion_celda_final,direccion_pdf):\n",
        "\n",
        "    '''Desde direccion_celda_final, que es un .csv con todos los datos de la jugadora hay que obtener cada valor y ponerlo en donde corresponde, nombre, relacion de cada pierna, etc.'''\n",
        "\n",
        "    pdf = PDF(\"p\",\"cm\",\"A4\")\n",
        "    pdf.add_page()\n",
        "    pdf.set_font(\"Arial\",size=12)\n",
        "    caratula(club, \"Evaluación de la fuerza isométrica de MMII con celda de cargas\")\n",
        "    pdf.add_page()\n",
        "    pdf.set_font(\"Arial\",size=10, style=\"B\")\n",
        "    pdf.set_y(2)\n",
        "\n",
        "    pdf.multi_cell(h=0.5, align='L', w=0, txt=f\"RESULTADOS DE LA EVALUACIÓN CON CELDAS DE CARGA \\n \\n1) FUERZA DE MUSLOS\\n \\n1.1) RELACION FLEXORES \\nValores de referencia \\n(-10(ok)<10-25(leve)<+25(grave) \\n\")\n",
        "\n",
        "    '''\n",
        "    pdf.cell(2,2,f'Porcentaje de asiemtría ={relacionFlex:.2f}')\n",
        "    if simetricoFlex !=0:\n",
        "      pdf.cell(2,4,f'Valores Óptimos en Flexores',ln=False, align='l')\n",
        "    elif asimetricoDFlex !=0:\n",
        "      pdf.cell(2,4,f'Fortalecer Flexores lado Derecho',ln=False, align='l')\n",
        "    else:\n",
        "      pdf.cell(2,4,f'Fortalecer Flexores lado Izquierdo',ln=False, align='l')\n",
        "\n",
        "\n",
        "    pdf.set_y(8)\n",
        "\n",
        "    pdf.multi_cell(h=0.5, align='L', w=0, txt=f\"2.2) RELACION EXTENSORES \\nValores de referencia \\n(-10(ok)<10-25(leve)<+25(grave))\\n\")\n",
        "    pdf.cell(2,2,f'Porcentaje de asiemtría ={relacionExt:.2f}')\n",
        "\n",
        "    if simetricoExt !=0:\n",
        "      pdf.cell(2,4,f'Valores Óptimos en Extensores')\n",
        "    elif asimetricoDExt !=0:\n",
        "      pdf.cell(2,4,f'Fortalecer Extensores lado Derecho')\n",
        "    else:\n",
        "      pdf.cell(2,4,f'Fortalecer Extensores lado Izquierdo')\n",
        "\n",
        "    pdf.set_y(12)\n",
        "\n",
        "    pdf.multi_cell(h=0.5, align='L', w=0, txt=f\"2.3) RELACION MUSLO DERECHO \\nValores de referencia \\n(-,{criticoD:.2f},(ok)<,{criticoD:.2f},-,{sCriticoD:.2f},(leve)<+,{sCriticoD:.2f},(grave))\\n\")\n",
        "    pdf.cell(2,2,f'Porcentaje de relación ={relacionMd:.2f}')\n",
        "\n",
        "    if simetricoMd !=0:\n",
        "      pdf.cell(2,4,f'Valores Óptimos en Muslo Derecho')\n",
        "    elif asimetricoDIsq !=0 or sAsimetricoDIsq!=0:\n",
        "      pdf.cell(2,4,f'Fortalecer Flexores lado Derecho')\n",
        "    else:\n",
        "      pdf.cell(2,4,f'Fortalecer Extensores lado Derecho')\n",
        "\n",
        "    pdf.set_y(16)\n",
        "\n",
        "    pdf.multi_cell(h=0.5, align='L', w=0, txt=f\"2.4) RELACION MUSLO Izquierdo \\nValores de referencia \\n(-{criticoI:.2f},(ok)<,{criticoI:.2f},-{sCriticoI:.2f},(leve)<+{sCriticoI:.2f},(grave))\\n\")\n",
        "    pdf.cell(2,2,f'Porcentaje de relación ={relacionMi:.2f}')\n",
        "\n",
        "    if simetricoMi !=0:\n",
        "      pdf.cell(2,4,f'Valores Óptimos en Muslo Izquierdo')\n",
        "    elif asimetricoIIsq !=0 or sAsimetricoIIsq!=0:\n",
        "      pdf.cell(2,4,f'Fortalecer Flexores lado Izquierdo')\n",
        "    else:\n",
        "      pdf.cell(2,4,f'Fortalecer Extensores lado Izquierdo')\n",
        "    #print(nombre)\n",
        "    '''\n",
        "    #exportar(nombre,direccion_pdf)\n",
        "    return\n"
      ]
    }
  ]
}