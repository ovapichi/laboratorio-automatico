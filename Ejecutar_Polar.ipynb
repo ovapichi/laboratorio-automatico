{
  "nbformat": 4,
  "nbformat_minor": 0,
  "metadata": {
    "colab": {
      "provenance": [],
      "authorship_tag": "ABX9TyOBt+Rz6PVBhf0BA7jmcdX1",
      "include_colab_link": true
    },
    "kernelspec": {
      "name": "python3",
      "display_name": "Python 3"
    },
    "language_info": {
      "name": "python"
    }
  },
  "cells": [
    {
      "cell_type": "markdown",
      "metadata": {
        "id": "view-in-github",
        "colab_type": "text"
      },
      "source": [
        "<a href=\"https://colab.research.google.com/github/ovapichi/laboratorio-automatico/blob/main/Ejecutar_Polar.ipynb\" target=\"_parent\"><img src=\"https://colab.research.google.com/assets/colab-badge.svg\" alt=\"Open In Colab\"/></a>"
      ]
    },
    {
      "cell_type": "code",
      "source": [
        "import matplotlib.pyplot as plt\n",
        "import numpy as np\n",
        "import pandas as pd\n",
        "from google.colab import drive, files\n",
        "import shutil\n",
        "drive.mount('/content/drive')\n",
        "from matplotlib.colors import to_rgba"
      ],
      "metadata": {
        "id": "kUua2U_p6xI5"
      },
      "execution_count": null,
      "outputs": []
    },
    {
      "cell_type": "code",
      "source": [
        "#!git clone \"https://github.com/ovapichi/laboratorio-automatico.git\"\n"
      ],
      "metadata": {
        "id": "40UhwgqY62K9"
      },
      "execution_count": null,
      "outputs": []
    },
    {
      "cell_type": "code",
      "source": [
        "#%run \"/content/laboratorio-automatico/Gráfico Polar.ipynb\"\n"
      ],
      "metadata": {
        "id": "Q8dFM56b646y"
      },
      "execution_count": null,
      "outputs": []
    },
    {
      "cell_type": "code",
      "execution_count": null,
      "metadata": {
        "id": "ujBUI9g6337K"
      },
      "outputs": [],
      "source": [
        "#colocar dirección donde quiero guardar los gráficos\n",
        "direccion_guardado='/content/drive/Shareddrives/Sociedad Hebraica Argentina/Históricos/Hasta 2023/'\n",
        "\n",
        "\n",
        "#lee el excel de datos históricos\n",
        "df=pd.read_excel('/content/drive/Shareddrives/Sociedad Hebraica Argentina/BD SHA.xlsx')\n",
        "\n",
        "#toma los datos de celda\n",
        "\n",
        "df_celda = df[df['Evaluación'] == 'celda']\n",
        "columnas_relevantes = ['DNI', 'Jugadora', 'Fecha', 'Extensores D', 'Extensores I', 'Flexores D', 'Flexores I',\n",
        "                        'Simetría Extensores',\t'Simetría Flexores',\t'H:Q ratio D',\t'H:Q ratio I']\n",
        "\n",
        "#etiquetas para cada gráfico (se puede obtener desde el nombre de columnas pero lo puse mas bonito)\n",
        "etiquetas_rel = [\"Simetría de\\nextensores\", \"Simetría de\\nflexores\", \"HQ Ratio\\nDerecho\", \"HQ Ratio\\nIzquierdo\"]\n",
        "etiquetas_abs = [\"Extensores de\\nmuslo derecho\", \"Extensores de\\nmuslo izquierdo\", \"Flexores de\\nmuslo derecho\", \"Flexores de\\nmuslo izquierdo\"]\n",
        "\n",
        "#toma las columnas de celda y ordena por jugadora y fecha\n",
        "df_celda = df_celda[columnas_relevantes]\n",
        "df_celda = df_celda.sort_values(by=['Jugadora', 'Fecha'])\n",
        "\n",
        "# Agrupar por \"Jugadora\"\n",
        "grupos_jugadora = df_celda.groupby('Jugadora')\n",
        "\n",
        "#creo las listas que voy a usar\n",
        "\n",
        "Extensores_D=[]\n",
        "Extensores_I=[]\n",
        "Flexores_D=[]\n",
        "Flexores_I=[]\n",
        "Simetría_Extensores=[]\n",
        "Simetría_Flexores=[]\n",
        "HQ_ratio_D=[]\n",
        "HQ_ratio_I=[]\n",
        "fecha=[]\n",
        "lista_de_evaluaciones=[]\n",
        "\n",
        "# Iterar sobre los grupos y realizar operaciones\n",
        "for nombre_jugadora, grupo in grupos_jugadora:\n",
        "\n",
        "    #para chequear que vaya iterando a las jugadoras\n",
        "    print(f\"\\nJugadora: {nombre_jugadora}\")\n",
        "\n",
        "    Extensores_D=grupo['Flexores D']\n",
        "    Extensores_I=grupo['Flexores I']\n",
        "    Flexores_D=grupo['Extensores D']\n",
        "    Flexores_I=grupo['Extensores I']\n",
        "    Simetría_Extensores=grupo['Simetría Extensores']\n",
        "    Simetría_Flexores=grupo['Simetría Flexores']\n",
        "    HQ_ratio_D=grupo['H:Q ratio D']\n",
        "    HQ_ratio_I=grupo['H:Q ratio I']\n",
        "    fecha=grupo['Fecha'].tolist()\n",
        "\n",
        "\n",
        "    #tomo el largo de la lista para saber cuantas evaluaciones se hizo cada jugadora\n",
        "    largo=len(grupo)\n",
        "    #creo listas para cada jugadora\n",
        "    lista_test=[] #todos los valores de cada jugadora\n",
        "    variables_abs=[] #valores absolutos de cada jugadora\n",
        "    variables_rel=[] #valores relativos de cada jugadora\n",
        "    fecha_test=[] #fechas de cada evaluacion de cada jugadora\n",
        "    color_list=[] #lista de valores asignados dependiendo la fecha para diferenciar color en el gráfico (Y,MM)\n",
        "    for i in range(largo):\n",
        "      #armo la lista de datos para tenerlos en orden\n",
        "      actual=Extensores_D.tolist()[i],Extensores_I.tolist()[i],Flexores_D.tolist()[i],Flexores_I.tolist()[i],Simetría_Extensores.tolist()[i],Simetría_Flexores.tolist()[i],HQ_ratio_D.tolist()[i],HQ_ratio_I.tolist()[i]\n",
        "\n",
        "      lista_test.append(actual)\n",
        "\n",
        "            # Obtener año y mes de la fecha\n",
        "      fecha = grupo['Fecha'].iloc[i]\n",
        "      year_month = fecha.strftime('%Y-%m')\n",
        "      color = float((fecha.year-2020) + fecha.month/12 )\n",
        "\n",
        "      variables_abs.append(actual[:4])\n",
        "      variables_rel.append(actual[4:])\n",
        "      fecha_test.append(year_month)\n",
        "      color_list.append(color)\n",
        "    #print(lista_test)\n",
        "    #print(variables_abs)\n",
        "    #print(variables_rel)\n",
        "    #print(color_list)\n",
        "\n",
        "    tipo=\" abs\"\n",
        "    #llama la función gráfico polar con valores absolutos\n",
        "    grafico_polar(nombre_jugadora,etiquetas_abs,variables_abs,largo,fecha_test,color_list,direccion_guardado,tipo)\n",
        "    tipo=\" rel\"\n",
        "    #llama la función gráfico polar con valores relativos\n",
        "    grafico_polar(nombre_jugadora,etiquetas_rel,variables_rel,largo,fecha_test,color_list,direccion_guardado,tipo)\n"
      ]
    }
  ]
}