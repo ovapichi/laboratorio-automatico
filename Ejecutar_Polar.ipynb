{
  "nbformat": 4,
  "nbformat_minor": 0,
  "metadata": {
    "colab": {
      "provenance": [],
      "authorship_tag": "ABX9TyNXzc5/bzWKgYNS6ZmdErrn",
      "include_colab_link": true
    },
    "kernelspec": {
      "name": "python3",
      "display_name": "Python 3"
    },
    "language_info": {
      "name": "python"
    }
  },
  "cells": [
    {
      "cell_type": "markdown",
      "metadata": {
        "id": "view-in-github",
        "colab_type": "text"
      },
      "source": [
        "<a href=\"https://colab.research.google.com/github/ovapichi/laboratorio-automatico/blob/main/Ejecutar_Polar.ipynb\" target=\"_parent\"><img src=\"https://colab.research.google.com/assets/colab-badge.svg\" alt=\"Open In Colab\"/></a>"
      ]
    },
    {
      "cell_type": "code",
      "source": [
        "import matplotlib.pyplot as plt\n",
        "import numpy as np\n",
        "import pandas as pd\n",
        "from google.colab import drive, files\n",
        "import shutil\n",
        "drive.mount('/content/drive')\n",
        "from matplotlib.colors import to_rgba"
      ],
      "metadata": {
        "id": "kUua2U_p6xI5",
        "outputId": "7e0978bf-b8a1-4b6c-c60a-905e6a934348",
        "colab": {
          "base_uri": "https://localhost:8080/"
        }
      },
      "execution_count": 1,
      "outputs": [
        {
          "output_type": "stream",
          "name": "stdout",
          "text": [
            "Mounted at /content/drive\n"
          ]
        }
      ]
    },
    {
      "cell_type": "code",
      "source": [
        "#!git clone \"https://github.com/ovapichi/laboratorio-automatico.git\"\n"
      ],
      "metadata": {
        "id": "40UhwgqY62K9"
      },
      "execution_count": null,
      "outputs": []
    },
    {
      "cell_type": "code",
      "source": [
        "#%run \"/content/laboratorio-automatico/Gráfico Polar.ipynb\"\n"
      ],
      "metadata": {
        "id": "Q8dFM56b646y"
      },
      "execution_count": null,
      "outputs": []
    },
    {
      "cell_type": "code",
      "execution_count": 45,
      "metadata": {
        "id": "ujBUI9g6337K",
        "outputId": "db801606-b3b1-4c7e-dc3b-b8370c76c801",
        "colab": {
          "base_uri": "https://localhost:8080/",
          "height": 279
        }
      },
      "outputs": [
        {
          "output_type": "stream",
          "name": "stdout",
          "text": [
            "\n",
            "Jugadora: Agustina Fridman\n"
          ]
        },
        {
          "output_type": "error",
          "ename": "TypeError",
          "evalue": "ignored",
          "traceback": [
            "\u001b[0;31m---------------------------------------------------------------------------\u001b[0m",
            "\u001b[0;31mTypeError\u001b[0m                                 Traceback (most recent call last)",
            "\u001b[0;32m<ipython-input-45-7c699f3170d3>\u001b[0m in \u001b[0;36m<cell line: 39>\u001b[0;34m()\u001b[0m\n\u001b[1;32m     51\u001b[0m     \u001b[0mHQ_ratio_I\u001b[0m\u001b[0;34m=\u001b[0m\u001b[0mgrupo\u001b[0m\u001b[0;34m[\u001b[0m\u001b[0;34m'H:Q ratio I'\u001b[0m\u001b[0;34m]\u001b[0m\u001b[0;34m.\u001b[0m\u001b[0mround\u001b[0m\u001b[0;34m(\u001b[0m\u001b[0;36m2\u001b[0m\u001b[0;34m)\u001b[0m\u001b[0;34m\u001b[0m\u001b[0;34m\u001b[0m\u001b[0m\n\u001b[1;32m     52\u001b[0m     \u001b[0mfecha\u001b[0m\u001b[0;34m=\u001b[0m\u001b[0mgrupo\u001b[0m\u001b[0;34m[\u001b[0m\u001b[0;34m'Fecha'\u001b[0m\u001b[0;34m]\u001b[0m\u001b[0;34m.\u001b[0m\u001b[0mtolist\u001b[0m\u001b[0;34m(\u001b[0m\u001b[0;34m)\u001b[0m\u001b[0;34m\u001b[0m\u001b[0;34m\u001b[0m\u001b[0m\n\u001b[0;32m---> 53\u001b[0;31m     \u001b[0mlista_final\u001b[0m\u001b[0;34m=\u001b[0m\u001b[0;34m(\u001b[0m\u001b[0;34m'Extensores D'\u001b[0m\u001b[0;34m+\u001b[0m\u001b[0mExtensores_D\u001b[0m\u001b[0;34m.\u001b[0m\u001b[0mtolist\u001b[0m\u001b[0;34m(\u001b[0m\u001b[0;34m)\u001b[0m\u001b[0;34m)\u001b[0m\u001b[0;34m,\u001b[0m\u001b[0mExtensores_I\u001b[0m\u001b[0;34m.\u001b[0m\u001b[0mtolist\u001b[0m\u001b[0;34m(\u001b[0m\u001b[0;34m)\u001b[0m\u001b[0;34m,\u001b[0m\u001b[0mFlexores_D\u001b[0m\u001b[0;34m.\u001b[0m\u001b[0mtolist\u001b[0m\u001b[0;34m(\u001b[0m\u001b[0;34m)\u001b[0m\u001b[0;34m,\u001b[0m\u001b[0mFlexores_I\u001b[0m\u001b[0;34m.\u001b[0m\u001b[0mtolist\u001b[0m\u001b[0;34m(\u001b[0m\u001b[0;34m)\u001b[0m\u001b[0;34m,\u001b[0m\u001b[0mSimetría_Extensores\u001b[0m\u001b[0;34m.\u001b[0m\u001b[0mtolist\u001b[0m\u001b[0;34m(\u001b[0m\u001b[0;34m)\u001b[0m\u001b[0;34m,\u001b[0m\u001b[0mSimetría_Flexores\u001b[0m\u001b[0;34m.\u001b[0m\u001b[0mtolist\u001b[0m\u001b[0;34m(\u001b[0m\u001b[0;34m)\u001b[0m\u001b[0;34m,\u001b[0m\u001b[0mHQ_ratio_D\u001b[0m\u001b[0;34m.\u001b[0m\u001b[0mtolist\u001b[0m\u001b[0;34m(\u001b[0m\u001b[0;34m)\u001b[0m\u001b[0;34m,\u001b[0m\u001b[0mHQ_ratio_I\u001b[0m\u001b[0;34m.\u001b[0m\u001b[0mtolist\u001b[0m\u001b[0;34m(\u001b[0m\u001b[0;34m)\u001b[0m\u001b[0;34m\u001b[0m\u001b[0;34m\u001b[0m\u001b[0m\n\u001b[0m\u001b[1;32m     54\u001b[0m \u001b[0;34m\u001b[0m\u001b[0m\n\u001b[1;32m     55\u001b[0m     \u001b[0;31m#tomo el largo de la lista para saber cuantas evaluaciones se hizo cada jugadora\u001b[0m\u001b[0;34m\u001b[0m\u001b[0;34m\u001b[0m\u001b[0m\n",
            "\u001b[0;31mTypeError\u001b[0m: can only concatenate str (not \"list\") to str"
          ]
        }
      ],
      "source": [
        "#colocar dirección donde quiero guardar los gráficos\n",
        "direccion_guardado='/content/drive/Shareddrives/Sociedad Hebraica Argentina/Históricos/Hasta 2023/'\n",
        "\n",
        "\n",
        "#lee el excel de datos históricos\n",
        "df=pd.read_excel('/content/drive/Shareddrives/Sociedad Hebraica Argentina/BD SHA.xlsx')\n",
        "\n",
        "#toma los datos de celda\n",
        "\n",
        "df_celda = df[df['Evaluación'] == 'celda']\n",
        "columnas_relevantes = ['DNI', 'Jugadora', 'Fecha', 'Extensores D', 'Extensores I', 'Flexores D', 'Flexores I',\n",
        "                        'Simetría Extensores',\t'Simetría Flexores',\t'H:Q ratio D',\t'H:Q ratio I']\n",
        "\n",
        "#etiquetas para cada gráfico (se puede obtener desde el nombre de columnas pero lo puse mas bonito)\n",
        "etiquetas_rel = [\"Simetría de\\nextensores\", \"Simetría de\\nflexores\", \"HQ Ratio\\nDerecho\", \"HQ Ratio\\nIzquierdo\"]\n",
        "etiquetas_abs = [\"Extensores de\\nmuslo derecho\", \"Extensores de\\nmuslo izquierdo\", \"Flexores de\\nmuslo derecho\", \"Flexores de\\nmuslo izquierdo\"]\n",
        "\n",
        "#toma las columnas de celda y ordena por jugadora y fecha\n",
        "df_celda = df_celda[columnas_relevantes]\n",
        "df_celda = df_celda.sort_values(by=['Jugadora', 'Fecha'])\n",
        "\n",
        "# Agrupar por \"Jugadora\"\n",
        "grupos_jugadora = df_celda.groupby('Jugadora')\n",
        "\n",
        "#creo las listas que voy a usar\n",
        "\n",
        "Extensores_D=[]\n",
        "Extensores_I=[]\n",
        "Flexores_D=[]\n",
        "Flexores_I=[]\n",
        "Simetría_Extensores=[]\n",
        "Simetría_Flexores=[]\n",
        "HQ_ratio_D=[]\n",
        "HQ_ratio_I=[]\n",
        "fecha=[]\n",
        "lista_de_evaluaciones=[]\n",
        "\n",
        "# Iterar sobre los grupos y realizar operaciones\n",
        "for nombre_jugadora, grupo in grupos_jugadora:\n",
        "\n",
        "    #para chequear que vaya iterando a las jugadoras\n",
        "    print(f\"\\nJugadora: {nombre_jugadora}\")\n",
        "\n",
        "    Extensores_D=grupo['Extensores D'].round(2)\n",
        "    Extensores_I=grupo['Extensores I'].round(2)\n",
        "    Flexores_D=grupo['Flexores D'].round(2)\n",
        "    Flexores_I=grupo['Flexores I'].round(2)\n",
        "    Simetría_Extensores=grupo['Simetría Extensores'].round(2)\n",
        "    Simetría_Flexores=grupo['Simetría Flexores'].round(2)\n",
        "    HQ_ratio_D=grupo['H:Q ratio D'].round(2)\n",
        "    HQ_ratio_I=grupo['H:Q ratio I'].round(2)\n",
        "    fecha=grupo['Fecha'].tolist()\n",
        "    lista_final=Extensores_D.tolist(),Extensores_I.tolist(),Flexores_D.tolist(),Flexores_I.tolist(),Simetría_Extensores.tolist(),Simetría_Flexores.tolist(),HQ_ratio_D.tolist(),HQ_ratio_I.tolist()\n",
        "\n",
        "    #tomo el largo de la lista para saber cuantas evaluaciones se hizo cada jugadora\n",
        "    largo=len(grupo)\n",
        "    #creo listas para cada jugadora\n",
        "    lista_test=[] #todos los valores de cada jugadora\n",
        "    variables_abs=[] #valores absolutos de cada jugadora\n",
        "    variables_rel=[] #valores relativos de cada jugadora\n",
        "    fecha_test=[] #fechas de cada evaluacion de cada jugadora\n",
        "    color_list=[] #lista de valores asignados dependiendo la fecha para diferenciar color en el gráfico (Y,MM)\n",
        "    actual=[]\n",
        "    lista_nueva=[]\n",
        "    for i in range(largo):\n",
        "      #armo la lista de datos para tenerlos en orden\n",
        "      actual=[Extensores_D.tolist()[i],Extensores_I.tolist()[i],Flexores_D.tolist()[i],Flexores_I.tolist()[i],Simetría_Extensores.tolist()[i],Simetría_Flexores.tolist()[i],HQ_ratio_D.tolist()[i],HQ_ratio_I.tolist()[i]]\n",
        "\n",
        "      lista_test.append(actual)\n",
        "\n",
        "            # Obtener año y mes de la fecha\n",
        "      fecha = grupo['Fecha'].iloc[i]\n",
        "      year_month = fecha.strftime('%Y-%m')\n",
        "      color = float((fecha.year-2020) + fecha.month/12 )\n",
        "\n",
        "      variables_abs.append(actual[:4])\n",
        "      variables_rel.append(actual[4:])\n",
        "      fecha_test.append(year_month)\n",
        "      color_list.append(color)\n",
        "    #print(lista_test)\n",
        "    #print(variables_abs)\n",
        "    #print(variables_rel)\n",
        "    #print(color_list)\n",
        "\n",
        "    #Envía todos los datos de celda de cargas históricos de cada jugadora con el nombre de la jugadora para poner en pdf\n",
        "\n",
        "    #ejecutar_historico_celda(nombre_jugadora,fecha_test,lista_test)\n",
        "\n",
        "    tipo=\" abs\"\n",
        "    #llama la función gráfico polar con valores absolutos\n",
        "\n",
        "    grafico_polar(nombre_jugadora,etiquetas_abs,variables_abs,largo,fecha_test,color_list,direccion_guardado,tipo)\n",
        "    tipo=\" rel\"\n",
        "    #llama la función gráfico polar con valores relativos\n",
        "\n",
        "    grafico_polar(nombre_jugadora,etiquetas_rel,variables_rel,largo,fecha_test,color_list,direccion_guardado,tipo)\n",
        "\n",
        "    #hist_head=['Jugadora', 'Fecha', 'Extensores D', 'Extensores I', 'Flexores D', 'Flexores I',\n",
        "                        #'Simetría Extensores',\t'Simetría Flexores',\t'H:Q ratio D',\t'H:Q ratio I']\n",
        "    #hist_data=[nombre_jugadora,fecha_test,lista_test]\n",
        "\n",
        "    #print(lista_final)"
      ]
    }
  ]
}