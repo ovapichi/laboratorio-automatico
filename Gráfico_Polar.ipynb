{
  "nbformat": 4,
  "nbformat_minor": 0,
  "metadata": {
    "colab": {
      "provenance": [],
      "authorship_tag": "ABX9TyPxoZkOHlN3bCMaU05+hcok",
      "include_colab_link": true
    },
    "kernelspec": {
      "name": "python3",
      "display_name": "Python 3"
    },
    "language_info": {
      "name": "python"
    }
  },
  "cells": [
    {
      "cell_type": "markdown",
      "metadata": {
        "id": "view-in-github",
        "colab_type": "text"
      },
      "source": [
        "<a href=\"https://colab.research.google.com/github/ovapichi/laboratorio-automatico/blob/main/Gr%C3%A1fico_Polar.ipynb\" target=\"_parent\"><img src=\"https://colab.research.google.com/assets/colab-badge.svg\" alt=\"Open In Colab\"/></a>"
      ]
    },
    {
      "cell_type": "code",
      "execution_count": null,
      "metadata": {
        "colab": {
          "base_uri": "https://localhost:8080/"
        },
        "id": "bC2nyjol-hZI",
        "outputId": "1afa835d-ea93-40f7-df68-c652a04ccdb5"
      },
      "outputs": [
        {
          "output_type": "stream",
          "name": "stdout",
          "text": [
            "Drive already mounted at /content/drive; to attempt to forcibly remount, call drive.mount(\"/content/drive\", force_remount=True).\n"
          ]
        }
      ],
      "source": [
        "import matplotlib.pyplot as plt\n",
        "import numpy as np\n",
        "import pandas as pd\n",
        "from google.colab import drive, files\n",
        "import shutil\n",
        "drive.mount('/content/drive')\n",
        "from matplotlib.colors import to_rgba"
      ]
    },
    {
      "cell_type": "code",
      "source": [
        "def grafico_polar(etiquetas,variables,largo,fecha_test,color_list):\n",
        "\n",
        "\n",
        "  # Asignar un ángulo a cada etiqueta\n",
        "  angulos = np.linspace(0, 2*np.pi, len(etiquetas), endpoint=False)\n",
        "\n",
        "  # Añadir el primer ángulo al final para cerrar el círculo\n",
        "  for i in range(largo):\n",
        "    variables[i]+= variables[i][:1]\n",
        "\n",
        "  angulos = np.append(angulos, angulos[:1])\n",
        "\n",
        "  # Crear el gráfico polar\n",
        "  fig, ax = plt.subplots(subplot_kw={'projection': 'polar'})\n",
        "\n",
        "  for i in range(largo):\n",
        "\n",
        "#tabla de colores segun fecha (color_list es una lista con variables según el año, el numero entero es el año (define el color) y el decimal el mes(define la opacidad))\n",
        "    if color_list[i]<3:\n",
        "      colores=\"m\"\n",
        "      alfa=(color_list[i]-2)/2\n",
        "    elif color_list[i]>3 and color_list[i]<4:\n",
        "      colores=\"b\"\n",
        "      alfa=(color_list[i]-3)/2\n",
        "    elif color_list[i]>4 and color_list[i]<5:\n",
        "      colores=\"g\"\n",
        "      alfa=(color_list[i]-3)/2\n",
        "\n",
        "#coloca atributos al gráfico polar\n",
        "\n",
        "    ax.plot(angulos, variables[i], marker='o', color=colores)\n",
        "    ax.fill_between(angulos, variables[i], alpha=alfa, label=fecha_test[i], color=colores)\n",
        "\n",
        "\n",
        "  # Personalizar el gráfico (opcional)\n",
        "  ax.set_theta_offset(np.pi/2)  # Ajustar la posición inicial del primer eje\n",
        "  ax.set_theta_direction(-1)    # Cambiar la dirección del eje polar (sentido antihorario)\n",
        "  ax.set_rlabel_position(90)    # Posición de las etiquetas radiales\n",
        "  ax.set_xticks(angulos[:-1])   # Colocar las etiquetas en los ángulos adecuados\n",
        "\n",
        "\n",
        "  # Ajustar la posición radial de las etiquetas\n",
        "  ax.set_rlabel_position(120)\n",
        "\n",
        "  # Colocar las etiquetas en los ángulos adecuados\n",
        "  ax.set_xticks(angulos[:-1])\n",
        "  ax.set_xticklabels(etiquetas, ha='center')\n",
        "\n",
        "  ax.legend()\n",
        "  #graba el gráfico como png\n",
        "  plt.savefig('polar.png')\n",
        "    # Mostrar el gráfico\n",
        "\n",
        "  plt.show()\n",
        "\n"
      ],
      "metadata": {
        "id": "mTrkOt7U_rXC"
      },
      "execution_count": null,
      "outputs": []
    }
  ]
}