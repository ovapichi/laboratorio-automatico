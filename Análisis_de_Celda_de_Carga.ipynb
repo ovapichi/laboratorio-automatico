{
  "nbformat": 4,
  "nbformat_minor": 0,
  "metadata": {
    "colab": {
      "provenance": [],
      "authorship_tag": "ABX9TyPoJLdAwATjtn9qL28bzuEB",
      "include_colab_link": true
    },
    "kernelspec": {
      "name": "python3",
      "display_name": "Python 3"
    },
    "language_info": {
      "name": "python"
    }
  },
  "cells": [
    {
      "cell_type": "markdown",
      "metadata": {
        "id": "view-in-github",
        "colab_type": "text"
      },
      "source": [
        "<a href=\"https://colab.research.google.com/github/ovapichi/laboratorio-automatico/blob/main/An%C3%A1lisis_de_Celda_de_Carga.ipynb\" target=\"_parent\"><img src=\"https://colab.research.google.com/assets/colab-badge.svg\" alt=\"Open In Colab\"/></a>"
      ]
    },
    {
      "cell_type": "markdown",
      "source": [
        "Requiere de 4 valores de tipo float en el siguiente orden:\n",
        "1.Cuadriceps Derechos\n",
        "2.Cuadriceps Izquierdos\n",
        "3.Isquios Derechos\n",
        "4.Isquios Izquierdos"
      ],
      "metadata": {
        "id": "YoOhnZCFtuPX"
      }
    },
    {
      "cell_type": "code",
      "source": [
        "pip install tabulate"
      ],
      "metadata": {
        "colab": {
          "base_uri": "https://localhost:8080/"
        },
        "id": "px-fFQjltnJT",
        "outputId": "8b97df11-2a2d-49f5-d604-ce7510a8b1ef"
      },
      "execution_count": null,
      "outputs": [
        {
          "output_type": "stream",
          "name": "stdout",
          "text": [
            "Requirement already satisfied: tabulate in /usr/local/lib/python3.10/dist-packages (0.9.0)\n"
          ]
        }
      ]
    },
    {
      "cell_type": "code",
      "source": [
        "from tabulate import tabulate\n",
        "!git clone \"https://github.com/ovapichi/laboratorio-automatico.git\""
      ],
      "metadata": {
        "id": "7GteDK05tpLW",
        "colab": {
          "base_uri": "https://localhost:8080/"
        },
        "outputId": "14db3d58-2d54-4027-c909-0ecc98836753"
      },
      "execution_count": null,
      "outputs": [
        {
          "output_type": "stream",
          "name": "stdout",
          "text": [
            "Cloning into 'laboratorio-automatico'...\n",
            "remote: Enumerating objects: 33, done.\u001b[K\n",
            "remote: Counting objects: 100% (33/33), done.\u001b[K\n",
            "remote: Compressing objects: 100% (32/32), done.\u001b[K\n",
            "remote: Total 33 (delta 14), reused 0 (delta 0), pack-reused 0\u001b[K\n",
            "Receiving objects: 100% (33/33), 11.48 KiB | 11.48 MiB/s, done.\n",
            "Resolving deltas: 100% (14/14), done.\n"
          ]
        }
      ]
    },
    {
      "cell_type": "code",
      "source": [
        "%run \"/content/laboratorio-automatico/Fpdf.ipynb\""
      ],
      "metadata": {
        "colab": {
          "base_uri": "https://localhost:8080/"
        },
        "id": "UusxuvZZBEBj",
        "outputId": "a3664e7c-cfe4-4bde-c51f-364283192604"
      },
      "execution_count": null,
      "outputs": [
        {
          "output_type": "stream",
          "name": "stdout",
          "text": [
            "Collecting fpdf\n",
            "  Downloading fpdf-1.7.2.tar.gz (39 kB)\n",
            "  Preparing metadata (setup.py) ... \u001b[?25l\u001b[?25hdone\n",
            "Building wheels for collected packages: fpdf\n",
            "  Building wheel for fpdf (setup.py) ... \u001b[?25l\u001b[?25hdone\n",
            "  Created wheel for fpdf: filename=fpdf-1.7.2-py2.py3-none-any.whl size=40703 sha256=453ee83c1dd56342bb306dbf51f9e7defc00f888aa213020c6415c31b446ffcc\n",
            "  Stored in directory: /root/.cache/pip/wheels/f9/95/ba/f418094659025eb9611f17cbcaf2334236bf39a0c3453ea455\n",
            "Successfully built fpdf\n",
            "Installing collected packages: fpdf\n",
            "Successfully installed fpdf-1.7.2\n"
          ]
        }
      ]
    },
    {
      "cell_type": "code",
      "execution_count": null,
      "metadata": {
        "id": "A9QgCtGXqJbI"
      },
      "outputs": [],
      "source": [
        "class Celda:\n",
        "  def __init__(self,cuadriceps_der,cuadriceps_izq,isquios_der,isquios_izq):\n",
        "    #Constructor\n",
        "    self.cuadriceps_der=cuadriceps_der\n",
        "    self.cuadriceps_izq=cuadriceps_izq\n",
        "    self.isquios_der=isquios_der\n",
        "    self.isquios_izq=isquios_izq\n",
        "\n",
        "  def calcular_ratios(self, valor1, valor2):\n",
        "    #calcula los ratios de cada grupo muscular\n",
        "    return round(valor1/valor2,2)\n",
        "\n",
        "  def procesar_simetria(self):\n",
        "    #Hace una recomendación en función del ratio que obtiene de la función anterior.\n",
        "\n",
        "    referencia_simetria=[['Referencia', ''], ['Menor a 0.9', 'Debilidad Derecha'],['Entre 0.9 y 1.1', 'Deseable'], ['Mayor a 1.1', 'Debilidad Izquierda']]\n",
        "    absolutos=[['Grupo Muscular', 'Valor en kilogramos'],['Extensores Derechos', self.cuadriceps_der], ['Extensores Izquierdos', self.cuadriceps_izq], ['Flexores Derechos', self.isquios_der], ['Flexores Izquierdos', self.isquios_izq]]\n",
        "    ratio_cuadriceps=self.calcular_ratios(self.cuadriceps_der,self.cuadriceps_izq)\n",
        "    ratio_isquios=self.calcular_ratios(self.isquios_der,self.isquios_izq)\n",
        "\n",
        "    print(tabulate(absolutos, headers='firstrow', tablefmt='fancy_grid'))\n",
        "    print(f'Su valor de simetría de extensores es {ratio_cuadriceps}. \\nSu valor de simetría de flexores es {ratio_isquios}.')\n",
        "    print(tabulate(referencia_simetria, headers='firstrow', tablefmt=\"fancy_grid\"))\n",
        "    return ratio_cuadriceps, ratio_isquios\n",
        "\n",
        "  def procesar_ratios(self):\n",
        "    #Toma los ratios anteroposteriores y devuelve la recomendación en función de ellos. Si queda positivo el cuadriceps es mayor.\n",
        "    ratio_derecho=self.calcular_ratios(self.isquios_der,self.cuadriceps_der)\n",
        "    ratio_izquierdo=self.calcular_ratios(self.isquios_izq,self.cuadriceps_izq)\n",
        "\n",
        "    print(f'Su H:Q ratio derecho es {ratio_derecho}. \\nSu H:Q ratio izquierdo es {ratio_izquierdo}.')\n",
        "    referencia_simetria=[['Referencia', ''], ['Mayor a 0.6', 'Deseable'], ['Menor a 0.6', 'Debilidad de flexores']]\n",
        "    print(tabulate(referencia_simetria, headers='firstrow', tablefmt=\"fancy_grid\"))\n",
        "    return ratio_derecho, ratio_izquierdo\n",
        "\n",
        "  def ejecutar(self):\n",
        "    self.procesar_simetria()\n",
        "    self.procesar_ratios()\n",
        "    lista=self.procesar_simetria(), self.procesar_ratios()\n",
        "    lista_nueva=[self.cuadriceps_der, self.cuadriceps_izq, self.isquios_der, self.isquios_izq]\n",
        "    for i in lista:\n",
        "      for e in i:\n",
        "        lista_nueva.append(e)\n",
        "    print(lista_nueva)"
      ]
    },
    {
      "cell_type": "code",
      "source": [
        "# anita=Celda(50, 55, 30, 35)\n",
        "# anita.ejecutar()"
      ],
      "metadata": {
        "colab": {
          "base_uri": "https://localhost:8080/"
        },
        "id": "ggro5kJZt8ey",
        "outputId": "99cd174e-0fdf-4fd2-ac6c-f75ff6300318"
      },
      "execution_count": null,
      "outputs": [
        {
          "output_type": "stream",
          "name": "stdout",
          "text": [
            "╒═══════════════════════╤═══════════════════════╕\n",
            "│ Grupo Muscular        │   Valor en kilogramos │\n",
            "╞═══════════════════════╪═══════════════════════╡\n",
            "│ Extensores Derechos   │                    50 │\n",
            "├───────────────────────┼───────────────────────┤\n",
            "│ Extensores Izquierdos │                    55 │\n",
            "├───────────────────────┼───────────────────────┤\n",
            "│ Flexores Derechos     │                    30 │\n",
            "├───────────────────────┼───────────────────────┤\n",
            "│ Flexores Izquierdos   │                    35 │\n",
            "╘═══════════════════════╧═══════════════════════╛\n",
            "Su valor de simetría de extensores es 0.91. \n",
            "Su valor de simetría de flexores es 0.86.\n",
            "╒═════════════════╤═════════════════════╕\n",
            "│ Referencia      │                     │\n",
            "╞═════════════════╪═════════════════════╡\n",
            "│ Menor a 0.9     │ Debilidad Derecha   │\n",
            "├─────────────────┼─────────────────────┤\n",
            "│ Entre 0.9 y 1.1 │ Deseable            │\n",
            "├─────────────────┼─────────────────────┤\n",
            "│ Mayor a 1.1     │ Debilidad Izquierda │\n",
            "╘═════════════════╧═════════════════════╛\n",
            "Su H:Q ratio derecho es 0.6. \n",
            "Su H:Q ratio izquierdo es 0.64.\n",
            "╒══════════════╤═══════════════════════╕\n",
            "│ Referencia   │                       │\n",
            "╞══════════════╪═══════════════════════╡\n",
            "│ Mayor a 0.6  │ Deseable              │\n",
            "├──────────────┼───────────────────────┤\n",
            "│ Menor a 0.6  │ Debilidad de flexores │\n",
            "╘══════════════╧═══════════════════════╛\n",
            "╒═══════════════════════╤═══════════════════════╕\n",
            "│ Grupo Muscular        │   Valor en kilogramos │\n",
            "╞═══════════════════════╪═══════════════════════╡\n",
            "│ Extensores Derechos   │                    50 │\n",
            "├───────────────────────┼───────────────────────┤\n",
            "│ Extensores Izquierdos │                    55 │\n",
            "├───────────────────────┼───────────────────────┤\n",
            "│ Flexores Derechos     │                    30 │\n",
            "├───────────────────────┼───────────────────────┤\n",
            "│ Flexores Izquierdos   │                    35 │\n",
            "╘═══════════════════════╧═══════════════════════╛\n",
            "Su valor de simetría de extensores es 0.91. \n",
            "Su valor de simetría de flexores es 0.86.\n",
            "╒═════════════════╤═════════════════════╕\n",
            "│ Referencia      │                     │\n",
            "╞═════════════════╪═════════════════════╡\n",
            "│ Menor a 0.9     │ Debilidad Derecha   │\n",
            "├─────────────────┼─────────────────────┤\n",
            "│ Entre 0.9 y 1.1 │ Deseable            │\n",
            "├─────────────────┼─────────────────────┤\n",
            "│ Mayor a 1.1     │ Debilidad Izquierda │\n",
            "╘═════════════════╧═════════════════════╛\n",
            "Su H:Q ratio derecho es 0.6. \n",
            "Su H:Q ratio izquierdo es 0.64.\n",
            "╒══════════════╤═══════════════════════╕\n",
            "│ Referencia   │                       │\n",
            "╞══════════════╪═══════════════════════╡\n",
            "│ Mayor a 0.6  │ Deseable              │\n",
            "├──────────────┼───────────────────────┤\n",
            "│ Menor a 0.6  │ Debilidad de flexores │\n",
            "╘══════════════╧═══════════════════════╛\n",
            "[50, 55, 30, 35, 0.91, 0.86, 0.6, 0.64]\n"
          ]
        }
      ]
    }
  ]
}