{
  "nbformat": 4,
  "nbformat_minor": 0,
  "metadata": {
    "colab": {
      "provenance": [],
      "include_colab_link": true
    },
    "kernelspec": {
      "name": "python3",
      "display_name": "Python 3"
    },
    "language_info": {
      "name": "python"
    }
  },
  "cells": [
    {
      "cell_type": "markdown",
      "metadata": {
        "id": "view-in-github",
        "colab_type": "text"
      },
      "source": [
        "<a href=\"https://colab.research.google.com/github/ovapichi/laboratorio-automatico/blob/main/An%C3%A1lisis_de_Celda_de_Carga.ipynb\" target=\"_parent\"><img src=\"https://colab.research.google.com/assets/colab-badge.svg\" alt=\"Open In Colab\"/></a>"
      ]
    },
    {
      "cell_type": "markdown",
      "source": [
        "Requiere de 4 valores de tipo float en el siguiente orden:\n",
        "1.Cuadriceps Derechos\n",
        "2.Cuadriceps Izquierdos\n",
        "3.Isquios Derechos\n",
        "4.Isquios Izquierdos"
      ],
      "metadata": {
        "id": "YoOhnZCFtuPX"
      }
    },
    {
      "cell_type": "code",
      "source": [
        "!git clone \"https://github.com/ovapichi/laboratorio-automatico.git\""
      ],
      "metadata": {
        "id": "eQou6FNTF33C",
        "outputId": "78e0203b-5a57-42e2-e071-53803b947281",
        "colab": {
          "base_uri": "https://localhost:8080/"
        }
      },
      "execution_count": 2,
      "outputs": [
        {
          "output_type": "stream",
          "name": "stdout",
          "text": [
            "Cloning into 'laboratorio-automatico'...\n",
            "remote: Enumerating objects: 109, done.\u001b[K\n",
            "remote: Counting objects: 100% (109/109), done.\u001b[K\n",
            "remote: Compressing objects: 100% (108/108), done.\u001b[K\n",
            "remote: Total 109 (delta 57), reused 0 (delta 0), pack-reused 0\u001b[K\n",
            "Receiving objects: 100% (109/109), 179.39 KiB | 1.55 MiB/s, done.\n",
            "Resolving deltas: 100% (57/57), done.\n"
          ]
        }
      ]
    },
    {
      "cell_type": "code",
      "source": [
        "%run \"/content/laboratorio-automatico/Fpdf.ipynb\""
      ],
      "metadata": {
        "colab": {
          "base_uri": "https://localhost:8080/"
        },
        "id": "UusxuvZZBEBj",
        "outputId": "c91cbbb5-a6cd-4d39-b8b7-b84d344bdbc3"
      },
      "execution_count": 3,
      "outputs": [
        {
          "output_type": "stream",
          "name": "stdout",
          "text": [
            "Collecting fpdf\n",
            "  Downloading fpdf-1.7.2.tar.gz (39 kB)\n",
            "  Preparing metadata (setup.py) ... \u001b[?25l\u001b[?25hdone\n",
            "Building wheels for collected packages: fpdf\n",
            "  Building wheel for fpdf (setup.py) ... \u001b[?25l\u001b[?25hdone\n",
            "  Created wheel for fpdf: filename=fpdf-1.7.2-py2.py3-none-any.whl size=40703 sha256=2887ee93c0a512393df743c9ac666a383ade731123db3dbdeed29ced7f72fb3b\n",
            "  Stored in directory: /root/.cache/pip/wheels/f9/95/ba/f418094659025eb9611f17cbcaf2334236bf39a0c3453ea455\n",
            "Successfully built fpdf\n",
            "Installing collected packages: fpdf\n",
            "Successfully installed fpdf-1.7.2\n"
          ]
        }
      ]
    },
    {
      "cell_type": "code",
      "source": [
        "import fpdf as FPDF\n",
        "from datetime import datetime\n",
        "import pandas as pd\n",
        "import numpy as np\n",
        "from fpdf import FPDF\n",
        "from google.colab import drive, files\n",
        "import shutil\n",
        "drive.mount('/content/drive')\n"
      ],
      "metadata": {
        "id": "7GteDK05tpLW",
        "colab": {
          "base_uri": "https://localhost:8080/"
        },
        "outputId": "6734a3a5-7010-41b1-c465-1f16b01fc8f8"
      },
      "execution_count": 4,
      "outputs": [
        {
          "output_type": "stream",
          "name": "stdout",
          "text": [
            "Mounted at /content/drive\n"
          ]
        }
      ]
    },
    {
      "cell_type": "code",
      "execution_count": 107,
      "metadata": {
        "id": "A9QgCtGXqJbI"
      },
      "outputs": [],
      "source": [
        "class Celda:\n",
        "  def __init__(self,cuadriceps_der,cuadriceps_izq,isquios_der,isquios_izq):\n",
        "    #Constructor\n",
        "    self.cuadriceps_der=cuadriceps_der\n",
        "    self.cuadriceps_izq=cuadriceps_izq\n",
        "    self.isquios_der=isquios_der\n",
        "    self.isquios_izq=isquios_izq\n",
        "\n",
        "  def calcular_ratios(self, valor1, valor2):\n",
        "    #calcula los ratios de cada grupo muscular\n",
        "    return round(valor1/valor2,2)\n",
        "\n",
        "  def procesar_simetria(self):\n",
        "    #Hace una recomendación en función del ratio que obtiene de la función anterior.\n",
        "    referencia_data=[['Menor a 0.9', 'Debilidad Derecha'],['Entre 0.9 y 1.1', 'Deseable'], ['Mayor a 1.1', 'Debilidad Izquierda']]\n",
        "    referencia_head=['Referencia', '']\n",
        "    abs_data=['Extensores Derechos', self.cuadriceps_der], ['Extensores Izquierdos', self.cuadriceps_izq], ['Flexores Derechos', self.isquios_der], ['Flexores Izquierdos', self.isquios_izq]\n",
        "    abs_head=['Grupo Muscular', 'Valor en kilogramos']\n",
        "    ratio_cuadriceps=self.calcular_ratios(self.cuadriceps_der,self.cuadriceps_izq)\n",
        "    ratio_isquios=self.calcular_ratios(self.isquios_der,self.isquios_izq)\n",
        "    pdf.add_page()\n",
        "    pdf.set_font(\"Arial\",size=10)\n",
        "    caratula(jugadora,\"Evaluación de la fuerza isométrica de MMII con celda de cargas\")\n",
        "    pdf.add_page()\n",
        "    pdf.set_y(4)\n",
        "    pdf.cell(0,1,f'Tabla de valores absolutos',ln=True, align='l')\n",
        "    pdf.add_table(abs_head,abs_data,5,True)\n",
        "    pdf.set_font('Arial', 'B', 14)\n",
        "    pdf.cell(0,1,f'Valores de simetría interpierna',ln=True,align='l')\n",
        "    pdf.set_font('Arial', '', 12)\n",
        "    pdf.cell(0,1,f'Su valor de simetría de extensores es {ratio_cuadriceps}.',ln=True, align='l')\n",
        "    pdf.cell(0,1,f'Su valor de simetría de flexores es {ratio_isquios}.',ln=True, align='l')\n",
        "    pdf.ln()\n",
        "    pdf.add_table(referencia_head,referencia_data,5,False)\n",
        "    pdf.ln()\n",
        "\n",
        "    #print(tabulate(absolutos, headers='firstrow', tablefmt='fancy_grid'))\n",
        "    #print(f'Su valor de simetría de extensores es {ratio_cuadriceps}. \\nSu valor de simetría de flexores es {ratio_isquios}.')\n",
        "    #print(tabulate(referencia_simetria, headers='firstrow', tablefmt=\"fancy_grid\"))\n",
        "    return ratio_cuadriceps, ratio_isquios\n",
        "\n",
        "  def procesar_ratios(self):\n",
        "    #Toma los ratios anteroposteriores y devuelve la recomendación en función de ellos. Si queda positivo el cuadriceps es mayor.\n",
        "    ratio_derecho=self.calcular_ratios(self.isquios_der,self.cuadriceps_der)\n",
        "    ratio_izquierdo=self.calcular_ratios(self.isquios_izq,self.cuadriceps_izq)\n",
        "\n",
        "\n",
        "    ratio_data=[['Mayor a 0.6', 'Deseable'], ['Menor a 0.6', 'Debilidad de flexores']]\n",
        "    ratio_head=['Referencia', '']\n",
        "\n",
        "    pdf.add_page()\n",
        "    pdf.set_y(4)\n",
        "    pdf.set_font('Arial', 'B', 14)\n",
        "    pdf.cell(0,1,f'Valores de ratio intrapierna.',ln=True,align='l')\n",
        "    pdf.set_font('Arial', '', 12)\n",
        "    pdf.cell(0,1,f'Su H:Q ratio derecho es {ratio_derecho}.',ln=True, align='l')\n",
        "    pdf.cell(0,1,f'Su H:Q ratio izquierdo es {ratio_izquierdo}.',ln=True, align='l')\n",
        "    pdf.ln()\n",
        "    pdf.add_table(ratio_head,ratio_data,5,False)\n",
        "    pdf.ln()\n",
        "\n",
        "    return ratio_derecho, ratio_izquierdo\n",
        "\n",
        "  def ejecutar(self):\n",
        "\n",
        "    lista=self.procesar_simetria(), self.procesar_ratios()\n",
        "    lista_nueva=[self.cuadriceps_der, self.cuadriceps_izq, self.isquios_der, self.isquios_izq]\n",
        "    for i in lista:\n",
        "      for e in i:\n",
        "        lista_nueva.append(e)\n",
        "    print(lista_nueva)\n",
        "\n",
        "  def ejecutar_historico_celda(self,jugadora,fecha,datos):\n",
        "    fecha = [\"Grupo Muscular\"] +fecha\n",
        "    hist_head=fecha\n",
        "\n",
        "\n",
        "    # Crear una lista de listas donde cada lista representa los valores de una posición\n",
        "\n",
        "    data=['Extensores D']+datos[0],['Extensores I']+datos[1],['Flexores D']+datos[2],['Flexores I']+datos[3],['Simetría D']+datos[4],['Simetría I']+datos[5],['H:Q Ratio D']+datos[6],['H:Q Ratio I']+datos[7]\n",
        "    hist_data=[data[0],data[1],data[2],data[3],data[4],data[5],data[6],data[7]]\n",
        "\n",
        "\n",
        "\n",
        "    pdf.add_page()\n",
        "    pdf.set_font(\"Arial\",size=10)\n",
        "    caratula(jugadora,\"Resúmen histórico celda de cargas\")\n",
        "    pdf.add_page()\n",
        "    pdf.set_y(4)\n",
        "    pdf.set_font('Arial', 'B', 14)\n",
        "\n",
        "    pdf.cell(0,1,f'Tabla de valores',ln=True, align='l')\n",
        "    pdf.ln()\n",
        "    pdf.add_table(hist_head,hist_data,4,True)\n",
        ""
      ]
    },
    {
      "cell_type": "code",
      "source": [
        "# pdf = PDF(\"p\",\"cm\",\"A4\")\n",
        "\n",
        " #anita=Celda(50, 55, 30, 35)\n",
        " #data=[[20.5, 30.62], [23.9, 31.52], [70.1, 63.15], [66.6, 58.35], [1.05, 1.08], [0.86, 0.97], [0.29, 0.48], [0.36, 0.54]]\n",
        "\n",
        " #fecha=['2022-09', '2023-03', '2023-11']\n",
        "\n",
        " #anita.ejecutar_historico_celda('Agustina Fridman', fecha, data)\n"
      ],
      "metadata": {
        "id": "ggro5kJZt8ey"
      },
      "execution_count": 108,
      "outputs": []
    },
    {
      "cell_type": "code",
      "source": [
        "#exportar(\"hola\",\"/content/sample_data\")"
      ],
      "metadata": {
        "id": "CW12GU1FGY8B"
      },
      "execution_count": 109,
      "outputs": []
    },
    {
      "cell_type": "code",
      "source": [],
      "metadata": {
        "id": "mVYL9FoMuROF"
      },
      "execution_count": null,
      "outputs": []
    }
  ]
}