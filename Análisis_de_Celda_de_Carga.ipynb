{
  "nbformat": 4,
  "nbformat_minor": 0,
  "metadata": {
    "colab": {
      "provenance": [],
      "include_colab_link": true
    },
    "kernelspec": {
      "name": "python3",
      "display_name": "Python 3"
    },
    "language_info": {
      "name": "python"
    }
  },
  "cells": [
    {
      "cell_type": "markdown",
      "metadata": {
        "id": "view-in-github",
        "colab_type": "text"
      },
      "source": [
        "<a href=\"https://colab.research.google.com/github/ovapichi/laboratorio-automatico/blob/main/An%C3%A1lisis_de_Celda_de_Carga.ipynb\" target=\"_parent\"><img src=\"https://colab.research.google.com/assets/colab-badge.svg\" alt=\"Open In Colab\"/></a>"
      ]
    },
    {
      "cell_type": "markdown",
      "source": [
        "Requiere de 4 valores de tipo float en el siguiente orden:\n",
        "1.Cuadriceps Derechos\n",
        "2.Cuadriceps Izquierdos\n",
        "3.Isquios Derechos\n",
        "4.Isquios Izquierdos"
      ],
      "metadata": {
        "id": "YoOhnZCFtuPX"
      }
    },
    {
      "cell_type": "code",
      "source": [
        "#!git clone \"https://github.com/ovapichi/laboratorio-automatico.git\""
      ],
      "metadata": {
        "id": "eQou6FNTF33C",
        "outputId": "1942daa0-8518-4a8d-c899-2bc829543e7e",
        "colab": {
          "base_uri": "https://localhost:8080/"
        }
      },
      "execution_count": 1,
      "outputs": [
        {
          "output_type": "stream",
          "name": "stdout",
          "text": [
            "Cloning into 'laboratorio-automatico'...\n",
            "remote: Enumerating objects: 55, done.\u001b[K\n",
            "remote: Counting objects: 100% (55/55), done.\u001b[K\n",
            "remote: Compressing objects: 100% (54/54), done.\u001b[K\n",
            "remote: Total 55 (delta 26), reused 0 (delta 0), pack-reused 0\u001b[K\n",
            "Receiving objects: 100% (55/55), 18.90 KiB | 6.30 MiB/s, done.\n",
            "Resolving deltas: 100% (26/26), done.\n"
          ]
        }
      ]
    },
    {
      "cell_type": "code",
      "source": [
        "#%run \"/content/laboratorio-automatico/Fpdf.ipynb\""
      ],
      "metadata": {
        "colab": {
          "base_uri": "https://localhost:8080/"
        },
        "id": "UusxuvZZBEBj",
        "outputId": "5a848e12-4332-4e57-948e-f91068091701"
      },
      "execution_count": null,
      "outputs": [
        {
          "output_type": "stream",
          "name": "stdout",
          "text": [
            "Requirement already satisfied: fpdf in /usr/local/lib/python3.10/dist-packages (1.7.2)\n"
          ]
        }
      ]
    },
    {
      "cell_type": "code",
      "source": [
        "import fpdf as FPDF\n",
        "from datetime import datetime\n",
        "import pandas as pd\n",
        "import numpy as np\n",
        "from fpdf import FPDF\n",
        "from google.colab import drive, files\n",
        "import shutil\n",
        "drive.mount('/content/drive')\n"
      ],
      "metadata": {
        "id": "7GteDK05tpLW",
        "colab": {
          "base_uri": "https://localhost:8080/"
        },
        "outputId": "1a1deea8-fd15-43fe-f2db-72fb9756e774"
      },
      "execution_count": null,
      "outputs": [
        {
          "output_type": "stream",
          "name": "stdout",
          "text": [
            "Mounted at /content/drive\n"
          ]
        }
      ]
    },
    {
      "cell_type": "code",
      "execution_count": null,
      "metadata": {
        "id": "A9QgCtGXqJbI"
      },
      "outputs": [],
      "source": [
        "class Celda:\n",
        "  def __init__(self,cuadriceps_der,cuadriceps_izq,isquios_der,isquios_izq):\n",
        "    #Constructor\n",
        "    self.cuadriceps_der=cuadriceps_der\n",
        "    self.cuadriceps_izq=cuadriceps_izq\n",
        "    self.isquios_der=isquios_der\n",
        "    self.isquios_izq=isquios_izq\n",
        "\n",
        "  def calcular_ratios(self, valor1, valor2):\n",
        "    #calcula los ratios de cada grupo muscular\n",
        "    return round(valor1/valor2,2)\n",
        "\n",
        "  def procesar_simetria(self):\n",
        "    #Hace una recomendación en función del ratio que obtiene de la función anterior.\n",
        "    referencia_data=[['Menor a 0.9', 'Debilidad Derecha'],['Entre 0.9 y 1.1', 'Deseable'], ['Mayor a 1.1', 'Debilidad Izquierda']]\n",
        "    referencia_head=['Referencia', '']\n",
        "    abs_data=['Extensores Derechos', self.cuadriceps_der], ['Extensores Izquierdos', self.cuadriceps_izq], ['Flexores Derechos', self.isquios_der], ['Flexores Izquierdos', self.isquios_izq]\n",
        "    abs_head=['Grupo Muscular', 'Valor en kilogramos']\n",
        "    ratio_cuadriceps=self.calcular_ratios(self.cuadriceps_der,self.cuadriceps_izq)\n",
        "    ratio_isquios=self.calcular_ratios(self.isquios_der,self.isquios_izq)\n",
        "    pdf.add_page()\n",
        "    pdf.set_font(\"Arial\",size=10)\n",
        "    caratula(jugadora,\"Evaluación de la fuerza isométrica de MMII con celda de cargas\")\n",
        "    pdf.add_page()\n",
        "    pdf.set_y(4)\n",
        "    pdf.cell(0,1,f'Tabla de valores absolutos',ln=True, align='l')\n",
        "    pdf.add_table(abs_head,abs_data)\n",
        "    pdf.set_font('Arial', 'B', 14)\n",
        "    pdf.cell(0,1,f'Valores de simetría interpierna',ln=True,align='l')\n",
        "    pdf.set_font('Arial', '', 12)\n",
        "    pdf.cell(0,1,f'Su valor de simetría de extensores es {ratio_cuadriceps}.',ln=True, align='l')\n",
        "    pdf.cell(0,1,f'Su valor de simetría de flexores es {ratio_isquios}.',ln=True, align='l')\n",
        "    pdf.ln()\n",
        "    pdf.add_table(referencia_head,referencia_data)\n",
        "    pdf.ln()\n",
        "\n",
        "    #print(tabulate(absolutos, headers='firstrow', tablefmt='fancy_grid'))\n",
        "    #print(f'Su valor de simetría de extensores es {ratio_cuadriceps}. \\nSu valor de simetría de flexores es {ratio_isquios}.')\n",
        "    #print(tabulate(referencia_simetria, headers='firstrow', tablefmt=\"fancy_grid\"))\n",
        "    return ratio_cuadriceps, ratio_isquios\n",
        "\n",
        "  def procesar_ratios(self):\n",
        "    #Toma los ratios anteroposteriores y devuelve la recomendación en función de ellos. Si queda positivo el cuadriceps es mayor.\n",
        "    ratio_derecho=self.calcular_ratios(self.isquios_der,self.cuadriceps_der)\n",
        "    ratio_izquierdo=self.calcular_ratios(self.isquios_izq,self.cuadriceps_izq)\n",
        "\n",
        "\n",
        "    ratio_data=[['Mayor a 0.6', 'Deseable'], ['Menor a 0.6', 'Debilidad de flexores']]\n",
        "    ratio_head=['Referencia', '']\n",
        "\n",
        "    pdf.add_page()\n",
        "    pdf.set_y(4)\n",
        "    pdf.set_font('Arial', 'B', 14)\n",
        "    pdf.cell(0,1,f'Valores de ratio intrapierna.',ln=True,align='l')\n",
        "    pdf.set_font('Arial', '', 12)\n",
        "    pdf.cell(0,1,f'Su H:Q ratio derecho es {ratio_derecho}.',ln=True, align='l')\n",
        "    pdf.cell(0,1,f'Su H:Q ratio izquierdo es {ratio_izquierdo}.',ln=True, align='l')\n",
        "    pdf.ln()\n",
        "    pdf.add_table(ratio_head,ratio_data)\n",
        "    pdf.ln()\n",
        "\n",
        "    return ratio_derecho, ratio_izquierdo\n",
        "\n",
        "  def ejecutar(self):\n",
        "\n",
        "    lista=self.procesar_simetria(), self.procesar_ratios()\n",
        "    lista_nueva=[self.cuadriceps_der, self.cuadriceps_izq, self.isquios_der, self.isquios_izq]\n",
        "    for i in lista:\n",
        "      for e in i:\n",
        "        lista_nueva.append(e)\n",
        "    print(lista_nueva)"
      ]
    },
    {
      "cell_type": "code",
      "source": [
        "# pdf = PDF(\"p\",\"cm\",\"A4\")\n",
        "# jugadora=\"anita\"\n",
        "# anita=Celda(50, 55, 30, 35)\n",
        "# anita.ejecutar()"
      ],
      "metadata": {
        "colab": {
          "base_uri": "https://localhost:8080/"
        },
        "id": "ggro5kJZt8ey",
        "outputId": "a0686fde-5f36-4afd-998e-568cb1489cea"
      },
      "execution_count": null,
      "outputs": [
        {
          "output_type": "stream",
          "name": "stdout",
          "text": [
            "[50, 55, 30, 35, 0.91, 0.86, 0.6, 0.64]\n"
          ]
        }
      ]
    },
    {
      "cell_type": "code",
      "source": [
        "#exportar(\"hola\",\"/content/sample_data\")"
      ],
      "metadata": {
        "id": "CW12GU1FGY8B"
      },
      "execution_count": null,
      "outputs": []
    }
  ]
}