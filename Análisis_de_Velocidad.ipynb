{
  "nbformat": 4,
  "nbformat_minor": 0,
  "metadata": {
    "colab": {
      "provenance": [],
      "include_colab_link": true
    },
    "kernelspec": {
      "name": "python3",
      "display_name": "Python 3"
    },
    "language_info": {
      "name": "python"
    }
  },
  "cells": [
    {
      "cell_type": "markdown",
      "metadata": {
        "id": "view-in-github",
        "colab_type": "text"
      },
      "source": [
        "<a href=\"https://colab.research.google.com/github/ovapichi/laboratorio-automatico/blob/main/An%C3%A1lisis_de_Velocidad.ipynb\" target=\"_parent\"><img src=\"https://colab.research.google.com/assets/colab-badge.svg\" alt=\"Open In Colab\"/></a>"
      ]
    },
    {
      "cell_type": "markdown",
      "source": [
        "Toma 5 float en el siguiente orden:\n",
        "\n",
        "1. Acumulado de 5 metros\n",
        "2. Acumulado de 10 metros\n",
        "3. Acumulado de 20 metros\n",
        "4. Acumulado de 30 metros\n",
        "5. Reacción (opcional)"
      ],
      "metadata": {
        "id": "jbi1ExRZvNIu"
      }
    },
    {
      "cell_type": "code",
      "source": [
        "#!git clone \"https://github.com/ovapichi/laboratorio-automatico.git\""
      ],
      "metadata": {
        "id": "Fi33uJCs2Ed7",
        "outputId": "b5a06dd1-d9dc-4987-e467-4f403f236698",
        "colab": {
          "base_uri": "https://localhost:8080/"
        }
      },
      "execution_count": 1,
      "outputs": [
        {
          "output_type": "stream",
          "name": "stdout",
          "text": [
            "Cloning into 'laboratorio-automatico'...\n",
            "remote: Enumerating objects: 85, done.\u001b[K\n",
            "remote: Counting objects: 100% (85/85), done.\u001b[K\n",
            "remote: Compressing objects: 100% (84/84), done.\u001b[K\n",
            "remote: Total 85 (delta 45), reused 0 (delta 0), pack-reused 0\u001b[K\n",
            "Receiving objects: 100% (85/85), 27.00 KiB | 6.75 MiB/s, done.\n",
            "Resolving deltas: 100% (45/45), done.\n"
          ]
        }
      ]
    },
    {
      "cell_type": "code",
      "source": [
        "#%run '/content/laboratorio-automatico/Fpdf.ipynb'\n"
      ],
      "metadata": {
        "id": "gqIZ_Efs2KJa",
        "outputId": "6b8a1f21-307f-4460-ba91-43063a1eab88",
        "colab": {
          "base_uri": "https://localhost:8080/"
        }
      },
      "execution_count": 2,
      "outputs": [
        {
          "output_type": "stream",
          "name": "stdout",
          "text": [
            "Collecting fpdf\n",
            "  Downloading fpdf-1.7.2.tar.gz (39 kB)\n",
            "  Preparing metadata (setup.py) ... \u001b[?25l\u001b[?25hdone\n",
            "Building wheels for collected packages: fpdf\n",
            "  Building wheel for fpdf (setup.py) ... \u001b[?25l\u001b[?25hdone\n",
            "  Created wheel for fpdf: filename=fpdf-1.7.2-py2.py3-none-any.whl size=40703 sha256=548dd1a4bbfa652e6651f0310e963a5a5dd418f4a404362c0c16394f40ef968a\n",
            "  Stored in directory: /root/.cache/pip/wheels/f9/95/ba/f418094659025eb9611f17cbcaf2334236bf39a0c3453ea455\n",
            "Successfully built fpdf\n",
            "Installing collected packages: fpdf\n",
            "Successfully installed fpdf-1.7.2\n"
          ]
        }
      ]
    },
    {
      "cell_type": "code",
      "source": [
        "import fpdf as FPDF\n",
        "from datetime import datetime\n",
        "import pandas as pd\n",
        "import numpy as np\n",
        "from fpdf import FPDF\n",
        "from google.colab import drive, files\n",
        "import shutil\n",
        "drive.mount('/content/drive')"
      ],
      "metadata": {
        "id": "HYj2eh6K0VND",
        "outputId": "458480f3-88c5-4e10-c6c3-da63ae1c347a",
        "colab": {
          "base_uri": "https://localhost:8080/"
        }
      },
      "execution_count": 3,
      "outputs": [
        {
          "output_type": "stream",
          "name": "stdout",
          "text": [
            "Mounted at /content/drive\n"
          ]
        }
      ]
    },
    {
      "cell_type": "code",
      "source": [
        "class Velocidad: #AGREGAR CALCULOS PARA VELOCIDAD, ACELERACIÓN Y POTENCIA\n",
        "  def __init__(self, masa, acumulado5, acumulado10, acumulado20, acumulado30, reaccion=''):\n",
        "    #constructor\n",
        "    self.masa=masa\n",
        "    self.reaccion=reaccion\n",
        "    self.acumulado5=acumulado5\n",
        "    self.acumulado10=acumulado10\n",
        "    self.acumulado20=acumulado20\n",
        "    self.acumulado30=acumulado30\n",
        "\n",
        "  def obtener_variables(self):\n",
        "    #calcula los self.masarciales desde el acumulado\n",
        "    if self.reaccion:\n",
        "      parcial5=self.acumulado5-self.reaccion\n",
        "    else:\n",
        "      parcial5=self.acumulado5\n",
        "\n",
        "    velocidad5=5/parcial5\n",
        "    aceleracion5=velocidad5/parcial5\n",
        "    fuerza5=self.masa*aceleracion5\n",
        "    potencia5=fuerza5*velocidad5\n",
        "\n",
        "    parcial10=self.acumulado10-self.acumulado5\n",
        "    velocidad10=5/parcial10\n",
        "    aceleracion10=velocidad10/parcial10\n",
        "    fuerza10=self.masa*aceleracion10\n",
        "    potencia10=fuerza10*velocidad10\n",
        "\n",
        "    parcial20=self.acumulado20-self.acumulado10\n",
        "    velocidad20=10/parcial20\n",
        "    aceleracion20=velocidad20/parcial20\n",
        "    fuerza20=self.masa*aceleracion20\n",
        "    potencia20=fuerza20*velocidad20\n",
        "\n",
        "    parcial30=self.acumulado30-self.acumulado20\n",
        "    velocidad30=10/parcial30\n",
        "    aceleracion30=velocidad30/parcial30\n",
        "    fuerza30=self.masa*aceleracion30\n",
        "    potencia30=fuerza30*velocidad30\n",
        "\n",
        "    return parcial5, parcial10, parcial20, parcial30, velocidad5, velocidad10, velocidad20, velocidad30, aceleracion5, aceleracion10, aceleracion20, aceleracion30, fuerza5, fuerza10, fuerza20, fuerza30, potencia5, potencia10, potencia20, potencia30\n",
        "\n",
        "  def ejecutar(self):\n",
        "    lista_acumulados=[0, self.reaccion, self.acumulado5, self.acumulado10, self.acumulado20, self.acumulado30 ]\n",
        "    lista_parciales=[0, self.reaccion] + [parcial for parcial in self.obtener_variables()[:4] ]\n",
        "    lista_velocidades=[0, ''] + [parcial for parcial in self.obtener_variables()[4:8] ]\n",
        "    lista_aceleraciones=[0, self.reaccion] + [parcial for parcial in self.obtener_variables()[8:12] ]\n",
        "    lista_fuerzas=[0, self.reaccion] + [parcial for parcial in self.obtener_variables()[12:16] ]\n",
        "    lista_potencias=[0, self.reaccion] + [parcial for parcial in self.obtener_variables()[16:] ]\n",
        "    largo=len(lista_acumulados)\n",
        "    for i in range(largo):\n",
        "      if lista_acumulados[i]!=\"\":\n",
        "        lista_acumulados[i]=round(lista_acumulados[i],2)\n",
        "        lista_parciales[i]=round(lista_parciales[i],2)\n",
        "        lista_velocidades[i]=round(lista_velocidades[i],2)\n",
        "        lista_aceleraciones[i]=round(lista_aceleraciones[i],2)\n",
        "        lista_fuerzas[i]=round(lista_fuerzas[i],2)\n",
        "        lista_potencias[i]=round(lista_potencias[i],2)\n",
        "\n",
        "\n",
        "\n",
        "\n",
        "    heads=['Inicio', 'Reacción', '5m', '10m', '20m', '30m']\n",
        "    # head_parciales=['Inicio', 'Reacción', 'Parcial 5m', 'Parcial 10m', 'Parcial 20m', 'Parcial 30m']\n",
        "    # head_velocidades=['Inicio', 'Reacción', 'velocidad 5m', 'velocidad 10m', 'velocidad 20m', 'velocidad 30m']\n",
        "    # head_aceleraciones=['Inicio', 'Reacción', 'aceleración 5m', 'aceleración 10m', 'aceleración 20m', 'aceleración 30m']\n",
        "    # head_fuerzas=['Inicio', 'Reacción', 'fuerza 5m', 'fuerza 10m', 'fuerza 20m', 'fuerza 30m']\n",
        "    # head_potencias=['Inicio', 'Reacción', 'potencia 5m', 'potencia 10m', 'potencia 20m', 'potencia 30m']\n",
        "    head_total=['Variables totales']\n",
        "\n",
        "    tabla_acumulados=[heads, lista_acumulados]\n",
        "    tabla_parciales=[heads, lista_parciales]\n",
        "    tabla_velocidades=[heads, lista_velocidades]\n",
        "    tabla_aceleraciones=[heads, lista_aceleraciones]\n",
        "    tabla_fuerzas=[heads, lista_fuerzas]\n",
        "    tabla_potencias=[heads, lista_potencias]\n",
        "    tabla_total=[['Tiempo [s]', self.acumulado30], ['Velocidad [m/s]',30/self.acumulado30 ], ['Aceleración [m/s2]',30/self.acumulado30/self.acumulado30], ['Fuerza [N]',30/self.acumulado30/self.acumulado30*self.masa], ['Potencia [W]',30/self.acumulado30/self.acumulado30*self.masa*30/self.acumulado30]]\n",
        "\n",
        "    #print(tabla_aceleraciones[1].round(2))\n",
        "\n",
        "    pdf.add_page()\n",
        "    pdf.set_font(\"Arial\",size=10)\n",
        "    caratula(jugadora,\"Evaluación de velocidad en 30 metros\")\n",
        "    pdf.add_page()\n",
        "    pdf.set_y(4)\n",
        "    pdf.set_font('Arial', 'B', 14)\n",
        "    pdf.cell(0,1,f'Resultados de la evaluación',ln=True,align='l')\n",
        "    pdf.set_font('Arial', '', 12)\n",
        "    pdf.ln()\n",
        "    pdf.add_table(head_total,tabla_total,5,True)\n",
        "    pdf.ln()\n",
        "    pdf.ln()\n",
        "    pdf.add_page()\n",
        "    pdf.set_y(3)\n",
        "    pdf.set_font('Arial', 'B', 14)\n",
        "    pdf.cell(0,1,f'Acumulados',ln=True,align='l')\n",
        "    pdf.set_font('Arial', '', 12)\n",
        "    pdf.ln()\n",
        "    pdf.add_table(heads,tabla_acumulados[1],3,False)\n",
        "    pdf.ln()\n",
        "    pdf.ln()\n",
        "    pdf.set_font('Arial', 'B', 14)\n",
        "    pdf.cell(0,1,f'Valores parciales',ln=True,align='l')\n",
        "\n",
        "    pdf.set_font('Arial', 'B', 14)\n",
        "    pdf.cell(0,1,f'Tiempo [s]',ln=True,align='l')\n",
        "    pdf.ln()\n",
        "    pdf.add_table(heads,tabla_parciales[1],3,False)\n",
        "    pdf.ln()\n",
        "    pdf.ln()\n",
        "    pdf.set_font('Arial', 'B', 14)\n",
        "\n",
        "    pdf.cell(0,1,f'Velocidades [m/s]',ln=True,align='l')\n",
        "    pdf.ln()\n",
        "    pdf.add_table(heads,tabla_velocidades[1],3,False)\n",
        "    pdf.ln()\n",
        "    pdf.ln()\n",
        "    pdf.set_font('Arial', 'B', 14)\n",
        "    pdf.cell(0,1,f'Aceleraciones [m/s2]',ln=True,align='l')\n",
        "    pdf.ln()\n",
        "    pdf.add_table(heads,tabla_aceleraciones[1],3,False)\n",
        "    pdf.ln()\n",
        "    pdf.ln()\n",
        "    pdf.set_font('Arial', 'B', 14)\n",
        "    pdf.cell(0,1,f'Fuerzas [N]',ln=True,align='l')\n",
        "    pdf.ln()\n",
        "    pdf.add_table(heads,tabla_fuerzas[1],3,False)\n",
        "    pdf.ln()\n",
        "    pdf.ln()\n",
        "    pdf.set_font('Arial', 'B', 14)\n",
        "    pdf.cell(0,1,f'Potencias [W]',ln=True,align='l')\n",
        "    pdf.ln()\n",
        "    pdf.add_table(heads,tabla_potencias[1],3,False)\n",
        "    pdf.ln()\n",
        "    #print(\"ok\")\n",
        "    # print(tabulate(tabla_acumulados, headers='firstrow', tablefmt='fancy_grid'))\n",
        "    # print(tabulate(tabla_parciales, headers='firstrow', tablefmt='fancy_grid'))\n",
        "    # print(tabulate(tabla_velocidades, headers='firstrow', tablefmt='fancy_grid'))\n",
        "    # print(tabulate(tabla_aceleraciones, headers='firstrow', tablefmt='fancy_grid'))\n",
        "    # print(tabulate(tabla_fuerzas, headers='firstrow', tablefmt='fancy_grid'))\n",
        "    # print(tabulate(tabla_potencias, headers='firstrow', tablefmt='fancy_grid'))\n",
        "    #print(tabulate(tabla_total, headers='firstrow', tablefmt='fancy_grid'))\n"
      ],
      "metadata": {
        "id": "EN1hngP-vOZN"
      },
      "execution_count": 29,
      "outputs": []
    },
    {
      "cell_type": "code",
      "execution_count": 30,
      "metadata": {
        "id": "COeuUMMTvJV-"
      },
      "outputs": [],
      "source": [
        "\n",
        "\n",
        "# pdf = PDF(\"p\",\"cm\",\"A4\")\n",
        "# jugadora=\"anita\"\n",
        "\n",
        "# anita=Velocidad(54, 1.2, 2.43, 3.212, 5.0)\n",
        "# anita.ejecutar()"
      ]
    },
    {
      "cell_type": "code",
      "source": [
        "\n",
        "\n",
        "#exportar(\"hola\",\"/content/sample_data\")"
      ],
      "metadata": {
        "id": "wK-_AKd54Nar"
      },
      "execution_count": 31,
      "outputs": []
    }
  ]
}