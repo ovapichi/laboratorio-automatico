{
  "nbformat": 4,
  "nbformat_minor": 0,
  "metadata": {
    "colab": {
      "provenance": [],
      "include_colab_link": true
    },
    "kernelspec": {
      "name": "python3",
      "display_name": "Python 3"
    },
    "language_info": {
      "name": "python"
    }
  },
  "cells": [
    {
      "cell_type": "markdown",
      "metadata": {
        "id": "view-in-github",
        "colab_type": "text"
      },
      "source": [
        "<a href=\"https://colab.research.google.com/github/ovapichi/laboratorio-automatico/blob/main/An%C3%A1lisis_de_Velocidad.ipynb\" target=\"_parent\"><img src=\"https://colab.research.google.com/assets/colab-badge.svg\" alt=\"Open In Colab\"/></a>"
      ]
    },
    {
      "cell_type": "markdown",
      "source": [
        "Toma 5 float en el siguiente orden:\n",
        "\n",
        "\n",
        "\n",
        "1.  peso\n",
        "2.  Acumulado de 5 metros\n",
        "3.  Acumulado de 10 metros\n",
        "4.  Acumulado de 20 metros\n",
        "5.  Acumulado de 30 metros\n",
        "6.  Reacción (opcional)\n",
        "\n",
        "\n",
        "\n",
        "\n"
      ],
      "metadata": {
        "id": "jbi1ExRZvNIu"
      }
    },
    {
      "cell_type": "code",
      "source": [
        "!git clone \"https://github.com/ovapichi/laboratorio-automatico.git\""
      ],
      "metadata": {
        "id": "Fi33uJCs2Ed7",
        "outputId": "0be2551c-55d8-4bf6-d684-1314c7b2801c",
        "colab": {
          "base_uri": "https://localhost:8080/"
        }
      },
      "execution_count": null,
      "outputs": [
        {
          "output_type": "stream",
          "name": "stdout",
          "text": [
            "fatal: destination path 'laboratorio-automatico' already exists and is not an empty directory.\n"
          ]
        }
      ]
    },
    {
      "cell_type": "code",
      "source": [
        "%run '/content/laboratorio-automatico/Fpdf.ipynb'\n"
      ],
      "metadata": {
        "id": "gqIZ_Efs2KJa",
        "outputId": "790d103a-9fd3-45bf-d9e1-3e658c75271c",
        "colab": {
          "base_uri": "https://localhost:8080/"
        }
      },
      "execution_count": null,
      "outputs": [
        {
          "output_type": "stream",
          "name": "stdout",
          "text": [
            "Requirement already satisfied: fpdf in /usr/local/lib/python3.10/dist-packages (1.7.2)\n"
          ]
        }
      ]
    },
    {
      "cell_type": "code",
      "source": [
        "import fpdf as FPDF\n",
        "from datetime import datetime\n",
        "import pandas as pd\n",
        "import numpy as np\n",
        "from fpdf import FPDF\n",
        "from google.colab import drive, files\n",
        "import shutil\n",
        "drive.mount('/content/drive')"
      ],
      "metadata": {
        "id": "HYj2eh6K0VND",
        "outputId": "9ee9836c-0c7d-4b48-a9f0-68ba09ae8a1b",
        "colab": {
          "base_uri": "https://localhost:8080/"
        }
      },
      "execution_count": null,
      "outputs": [
        {
          "output_type": "stream",
          "name": "stdout",
          "text": [
            "Drive already mounted at /content/drive; to attempt to forcibly remount, call drive.mount(\"/content/drive\", force_remount=True).\n"
          ]
        }
      ]
    },
    {
      "cell_type": "code",
      "source": [
        "class Velocidad: #AGREGAR CALCULOS PARA VELOCIDAD, ACELERACIÓN Y POTENCIA\n",
        "  def __init__(self, masa, acumulado5, acumulado10, acumulado20, acumulado30, reaccion=''):\n",
        "    #constructor\n",
        "    self.masa=masa\n",
        "    self.reaccion=reaccion\n",
        "    self.acumulado5=acumulado5\n",
        "    self.acumulado10=acumulado10\n",
        "    self.acumulado20=acumulado20\n",
        "    self.acumulado30=acumulado30\n",
        "\n",
        "  def obtener_variables(self):\n",
        "    #calcula los self.masarciales desde el acumulado\n",
        "    if self.reaccion:\n",
        "      parcial5=self.acumulado5-self.reaccion\n",
        "    else:\n",
        "      parcial5=self.acumulado5\n",
        "\n",
        "    velocidad5=5/parcial5\n",
        "    aceleracion5=velocidad5/parcial5\n",
        "    fuerza5=self.masa*aceleracion5\n",
        "    potencia5=fuerza5*velocidad5\n",
        "\n",
        "    parcial10=self.acumulado10-self.acumulado5\n",
        "    velocidad10=5/parcial10\n",
        "    aceleracion10=velocidad10/parcial10\n",
        "    fuerza10=self.masa*aceleracion10\n",
        "    potencia10=fuerza10*velocidad10\n",
        "\n",
        "    parcial20=self.acumulado20-self.acumulado10\n",
        "    velocidad20=10/parcial20\n",
        "    aceleracion20=velocidad20/parcial20\n",
        "    fuerza20=self.masa*aceleracion20\n",
        "    potencia20=fuerza20*velocidad20\n",
        "\n",
        "    parcial30=self.acumulado30-self.acumulado20\n",
        "    velocidad30=10/parcial30\n",
        "    aceleracion30=velocidad30/parcial30\n",
        "    fuerza30=self.masa*aceleracion30\n",
        "    potencia30=fuerza30*velocidad30\n",
        "\n",
        "    return parcial5, parcial10, parcial20, parcial30, velocidad5, velocidad10, velocidad20, velocidad30, aceleracion5, aceleracion10, aceleracion20, aceleracion30, fuerza5, fuerza10, fuerza20, fuerza30, potencia5, potencia10, potencia20, potencia30\n",
        "\n",
        "  def ejecutar(self):\n",
        "    lista_acumulados=[0, self.reaccion, self.acumulado5, self.acumulado10, self.acumulado20, self.acumulado30 ]\n",
        "    lista_parciales=[0, self.reaccion] + [parcial for parcial in self.obtener_variables()[:4] ]\n",
        "    lista_velocidades=[0, ''] + [parcial for parcial in self.obtener_variables()[4:8] ]\n",
        "    lista_aceleraciones=[0, self.reaccion] + [parcial for parcial in self.obtener_variables()[8:12] ]\n",
        "    lista_fuerzas=[0, self.reaccion] + [parcial for parcial in self.obtener_variables()[12:16] ]\n",
        "    lista_potencias=[0, self.reaccion] + [parcial for parcial in self.obtener_variables()[16:] ]\n",
        "\n",
        "    largo=len(lista_acumulados)\n",
        "\n",
        "    for i in range(largo):\n",
        "      if lista_acumulados[i]!=\"\":\n",
        "        lista_acumulados[i]=round(lista_acumulados[i],2)\n",
        "        lista_parciales[i]=round(lista_parciales[i],2)\n",
        "        lista_velocidades[i]=round(lista_velocidades[i],2)\n",
        "        lista_aceleraciones[i]=round(lista_aceleraciones[i],2)\n",
        "        lista_fuerzas[i]=round(lista_fuerzas[i],2)\n",
        "        lista_potencias[i]=round(lista_potencias[i],2)\n",
        "\n",
        "\n",
        "\n",
        "\n",
        "    heads=['Inicio', 'Reacción', '5m', '10m', '20m', '30m']\n",
        "    # head_parciales=['Inicio', 'Reacción', 'Parcial 5m', 'Parcial 10m', 'Parcial 20m', 'Parcial 30m']\n",
        "    # head_velocidades=['Inicio', 'Reacción', 'velocidad 5m', 'velocidad 10m', 'velocidad 20m', 'velocidad 30m']\n",
        "    # head_aceleraciones=['Inicio', 'Reacción', 'aceleración 5m', 'aceleración 10m', 'aceleración 20m', 'aceleración 30m']\n",
        "    # head_fuerzas=['Inicio', 'Reacción', 'fuerza 5m', 'fuerza 10m', 'fuerza 20m', 'fuerza 30m']\n",
        "    # head_potencias=['Inicio', 'Reacción', 'potencia 5m', 'potencia 10m', 'potencia 20m', 'potencia 30m']\n",
        "    head_total=['Variables totales']\n",
        "\n",
        "    tabla_acumulados=[heads, lista_acumulados]\n",
        "    tabla_parciales=[heads, lista_parciales]\n",
        "    tabla_velocidades=[heads, lista_velocidades]\n",
        "    tabla_aceleraciones=[heads, lista_aceleraciones]\n",
        "    tabla_fuerzas=[heads, lista_fuerzas]\n",
        "    tabla_potencias=[heads, lista_potencias]\n",
        "    tabla_total=[['Tiempo [s]', round(self.acumulado30,2)], ['Velocidad [m/s]',round(30/self.acumulado30,2) ], ['Aceleración [m/s2]',round(30/self.acumulado30/self.acumulado30,2)], ['Fuerza [N]',round(30/self.acumulado30/self.acumulado30*self.masa,2)], ['Potencia [W]',round(30/self.acumulado30/self.acumulado30*self.masa*30/self.acumulado30,2)]]\n",
        "\n",
        "    #print(tabla_aceleraciones[1].round(2))\n",
        "\n",
        "    pdf.add_page()\n",
        "    pdf.set_font(\"Arial\",size=10)\n",
        "    caratula(jugadora,\"Evaluación de velocidad en 30 metros\")\n",
        "    pdf.add_page()\n",
        "    pdf.set_y(4)\n",
        "    pdf.set_font('Arial', 'B', 14)\n",
        "    pdf.cell(0,1,f'Resultados de la evaluación',ln=True,align='l')\n",
        "    pdf.set_font('Arial', '', 12)\n",
        "    pdf.ln()\n",
        "    pdf.add_table(head_total,tabla_total,5,True)\n",
        "    pdf.ln()\n",
        "    pdf.ln()\n",
        "    pdf.add_page()\n",
        "    pdf.set_y(3)\n",
        "    pdf.set_font('Arial', 'B', 14)\n",
        "    pdf.cell(0,1,f'Acumulados',ln=True,align='l')\n",
        "    pdf.set_font('Arial', '', 12)\n",
        "    pdf.ln()\n",
        "    pdf.add_table(heads,tabla_acumulados[1],3,False)\n",
        "    pdf.ln()\n",
        "    pdf.ln()\n",
        "    pdf.set_font('Arial', 'B', 14)\n",
        "    pdf.cell(0,1,f'Valores parciales',ln=True,align='l')\n",
        "\n",
        "    pdf.set_font('Arial', 'B', 14)\n",
        "    pdf.cell(0,1,f'Tiempo [s]',ln=True,align='l')\n",
        "    pdf.ln()\n",
        "    pdf.add_table(heads,tabla_parciales[1],3,False)\n",
        "    pdf.ln()\n",
        "    pdf.ln()\n",
        "    pdf.set_font('Arial', 'B', 14)\n",
        "\n",
        "    pdf.cell(0,1,f'Velocidades [m/s]',ln=True,align='l')\n",
        "    pdf.ln()\n",
        "    pdf.add_table(heads,tabla_velocidades[1],3,False)\n",
        "    pdf.ln()\n",
        "    pdf.ln()\n",
        "    pdf.set_font('Arial', 'B', 14)\n",
        "    pdf.cell(0,1,f'Aceleraciones [m/s2]',ln=True,align='l')\n",
        "    pdf.ln()\n",
        "    pdf.add_table(heads,tabla_aceleraciones[1],3,False)\n",
        "    pdf.ln()\n",
        "    pdf.ln()\n",
        "    pdf.set_font('Arial', 'B', 14)\n",
        "    pdf.cell(0,1,f'Fuerzas [N]',ln=True,align='l')\n",
        "    pdf.ln()\n",
        "    pdf.add_table(heads,tabla_fuerzas[1],3,False)\n",
        "    pdf.ln()\n",
        "    pdf.ln()\n",
        "    pdf.set_font('Arial', 'B', 14)\n",
        "    pdf.cell(0,1,f'Potencias [W]',ln=True,align='l')\n",
        "    pdf.ln()\n",
        "    pdf.add_table(heads,tabla_potencias[1],3,False)\n",
        "    pdf.ln()\n",
        "\n",
        "  def ejecutar_historico_velocidad(self,jugadora,fecha,datos):\n",
        "\n",
        "    fecha = [\"Tiempos\"] + fecha\n",
        "    hist_head=fecha\n",
        "\n",
        "\n",
        "    # Crear una lista de listas donde cada lista representa los valores de una posición\n",
        "\n",
        "    data=['0m']+['0'],['Reacción']+[''],['5 m']+datos[0],['10 m']+datos[1],['20 m']+datos[2],['30 m']+datos[3]\n",
        "    hist_data=[data[0],data[1],data[2],data[3],data[4],data[5]]\n",
        "\n",
        "\n",
        "\n",
        "    pdf.add_page()\n",
        "    pdf.set_font(\"Arial\",size=10)\n",
        "    caratula(jugadora,\"Resúmen histórico Velocidad\")\n",
        "    pdf.add_page()\n",
        "    pdf.set_y(4)\n",
        "    pdf.set_font('Arial', 'B', 14)\n",
        "\n",
        "    pdf.cell(0,1,f'Tabla de valores',ln=True, align='l')\n",
        "    pdf.ln()\n",
        "    pdf.add_table(hist_head,hist_data,4,True)\n",
        "\n",
        "    #print(\"ok\")\n",
        "    # print(tabulate(tabla_acumulados, headers='firstrow', tablefmt='fancy_grid'))\n",
        "    # print(tabulate(tabla_parciales, headers='firstrow', tablefmt='fancy_grid'))\n",
        "    # print(tabulate(tabla_velocidades, headers='firstrow', tablefmt='fancy_grid'))\n",
        "    # print(tabulate(tabla_aceleraciones, headers='firstrow', tablefmt='fancy_grid'))\n",
        "    # print(tabulate(tabla_fuerzas, headers='firstrow', tablefmt='fancy_grid'))\n",
        "    # print(tabulate(tabla_potencias, headers='firstrow', tablefmt='fancy_grid'))\n",
        "    #print(tabulate(tabla_total, headers='firstrow', tablefmt='fancy_grid'))\n"
      ],
      "metadata": {
        "id": "EN1hngP-vOZN"
      },
      "execution_count": null,
      "outputs": []
    },
    {
      "cell_type": "code",
      "execution_count": null,
      "metadata": {
        "id": "COeuUMMTvJV-"
      },
      "outputs": [],
      "source": [
        "\n",
        "\n",
        "# pdf = PDF(\"p\",\"cm\",\"A4\")\n",
        "# jugadora=\"anita\"\n",
        "\n",
        "# anita=Velocidad(54, 1.2, 2.43, 3.212, 5.0)\n",
        "# anita.ejecutar()"
      ]
    },
    {
      "cell_type": "code",
      "source": [
        "\n",
        "\n",
        "#exportar(\"hola\",\"/content/sample_data\")"
      ],
      "metadata": {
        "id": "wK-_AKd54Nar"
      },
      "execution_count": null,
      "outputs": []
    }
  ]
}