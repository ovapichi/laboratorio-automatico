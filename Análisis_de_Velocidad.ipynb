{
  "nbformat": 4,
  "nbformat_minor": 0,
  "metadata": {
    "colab": {
      "provenance": [],
      "authorship_tag": "ABX9TyOSWHrrLwTETYeNOibH4dP4",
      "include_colab_link": true
    },
    "kernelspec": {
      "name": "python3",
      "display_name": "Python 3"
    },
    "language_info": {
      "name": "python"
    }
  },
  "cells": [
    {
      "cell_type": "markdown",
      "metadata": {
        "id": "view-in-github",
        "colab_type": "text"
      },
      "source": [
        "<a href=\"https://colab.research.google.com/github/ovapichi/laboratorio-automatico/blob/main/An%C3%A1lisis_de_Velocidad.ipynb\" target=\"_parent\"><img src=\"https://colab.research.google.com/assets/colab-badge.svg\" alt=\"Open In Colab\"/></a>"
      ]
    },
    {
      "cell_type": "markdown",
      "source": [
        "Toma 5 float en el siguiente orden:\n",
        "\n",
        "1. Acumulado de 5 metros\n",
        "2. Acumulado de 10 metros\n",
        "3. Acumulado de 20 metros\n",
        "4. Acumulado de 30 metros\n",
        "5. Reacción (opcional)"
      ],
      "metadata": {
        "id": "jbi1ExRZvNIu"
      }
    },
    {
      "cell_type": "code",
      "source": [
        "pip install tabulate"
      ],
      "metadata": {
        "colab": {
          "base_uri": "https://localhost:8080/"
        },
        "id": "sLyJuZIZ7SzK",
        "outputId": "35df9c7e-f0bc-40d2-c565-cd170c792b17"
      },
      "execution_count": null,
      "outputs": [
        {
          "output_type": "stream",
          "name": "stdout",
          "text": [
            "Requirement already satisfied: tabulate in /usr/local/lib/python3.10/dist-packages (0.9.0)\n"
          ]
        }
      ]
    },
    {
      "cell_type": "code",
      "source": [
        "from tabulate import tabulate"
      ],
      "metadata": {
        "id": "Npf_zAiNCCh7"
      },
      "execution_count": null,
      "outputs": []
    },
    {
      "cell_type": "code",
      "source": [
        "class Velocidad: #AGREGAR CALCULOS PARA VELOCIDAD, ACELERACIÓN Y POTENCIA\n",
        "  def __init__(self, masa, acumulado5, acumulado10, acumulado20, acumulado30, reaccion=''):\n",
        "    #constructor\n",
        "    self.masa=masa\n",
        "    self.reaccion=reaccion\n",
        "    self.acumulado5=acumulado5\n",
        "    self.acumulado10=acumulado10\n",
        "    self.acumulado20=acumulado20\n",
        "    self.acumulado30=acumulado30\n",
        "\n",
        "  def obtener_variables(self):\n",
        "    #calcula los tiempos parciales desde el acumulado\n",
        "    if self.reaccion:\n",
        "      parcial5=self.acumulado5-self.reaccion\n",
        "    else:\n",
        "      parcial5=self.acumulado5\n",
        "\n",
        "    velocidad5=5/parcial5\n",
        "    aceleracion5=velocidad5/parcial5\n",
        "    fuerza5=self.masa*aceleracion5\n",
        "    potencia5=fuerza5*velocidad5\n",
        "\n",
        "    parcial10=self.acumulado10-self.acumulado5\n",
        "    velocidad10=5/parcial10\n",
        "    aceleracion10=velocidad10/parcial10\n",
        "    fuerza10=self.masa*aceleracion10\n",
        "    potencia10=fuerza10*velocidad10\n",
        "\n",
        "    parcial20=self.acumulado20-self.acumulado10\n",
        "    velocidad20=10/parcial20\n",
        "    aceleracion20=velocidad20/parcial20\n",
        "    fuerza20=self.masa*aceleracion20\n",
        "    potencia20=fuerza20*velocidad20\n",
        "\n",
        "    parcial30=self.acumulado30-self.acumulado20\n",
        "    velocidad30=10/parcial30\n",
        "    aceleracion30=velocidad30/parcial30\n",
        "    fuerza30=self.masa*aceleracion30\n",
        "    potencia30=fuerza30*velocidad30\n",
        "\n",
        "    return parcial5, parcial10, parcial20, parcial30, velocidad5, velocidad10, velocidad20, velocidad30, aceleracion5, aceleracion10, aceleracion20, aceleracion30, fuerza5, fuerza10, fuerza20, fuerza30, potencia5, potencia10, potencia20, potencia30\n",
        "\n",
        "  def ejecutar(self):\n",
        "    lista_acumulados=[0, self.reaccion, self.acumulado5, self.acumulado10, self.acumulado20, self.acumulado30 ]\n",
        "    lista_parciales=[0, self.reaccion] + [parcial for parcial in self.obtener_variables()[:4] ]\n",
        "    lista_velocidades=[0, ''] + [parcial for parcial in self.obtener_variables()[4:8] ]\n",
        "    lista_aceleraciones=[0, self.reaccion] + [parcial for parcial in self.obtener_variables()[8:12] ]\n",
        "    lista_fuerzas=[0, self.reaccion] + [parcial for parcial in self.obtener_variables()[12:16] ]\n",
        "    lista_potencias=[0, self.reaccion] + [parcial for parcial in self.obtener_variables()[16:] ]\n",
        "    head_acumulados=['Inicio', 'Reacción', 'Acumulado 5m', 'Acumulado 10m', 'Acumulado 20m', 'Acumulado 30m']\n",
        "    head_parciales=['Inicio', 'Reacción', 'Parcial 5m', 'Parcial 10m', 'Parcial 20m', 'Parcial 30m']\n",
        "    head_velocidades=['Inicio', 'Reacción', 'velocidad 5m', 'velocidad 10m', 'velocidad 20m', 'velocidad 30m']\n",
        "    head_aceleraciones=['Inicio', 'Reacción', 'aceleración 5m', 'aceleración 10m', 'aceleración 20m', 'aceleración 30m']\n",
        "    head_fuerza=['Inicio', 'Reacción', 'fuerza 5m', 'fuerza 10m', 'fuerza 20m', 'fuerza 30m']\n",
        "    head_potencia=['Inicio', 'Reacción', 'potencia 5m', 'potencia 10m', 'potencia 20m', 'potencia 30m']\n",
        "    head_total=['Variables totales']\n",
        "\n",
        "    tabla_acumulados=[head_acumulados, lista_acumulados]\n",
        "    tabla_parciales=[head_parciales, lista_parciales]\n",
        "    tabla_velocidades=[head_velocidades, lista_velocidades]\n",
        "    tabla_aceleraciones=[head_aceleraciones, lista_aceleraciones]\n",
        "    tabla_fuerzas=[head_fuerza, lista_fuerzas]\n",
        "    tabla_potencias=[head_potencia, lista_potencias]\n",
        "    tabla_total=[head_total,['Tiempo', self.acumulado30], ['Velocidad',30/self.acumulado30 ], ['Aceleración',30/self.acumulado30/self.acumulado30], ['Fuerza',30/self.acumulado30/self.acumulado30*tiempos[0]], ['Potencia',30/self.acumulado30/self.acumulado30*tiempos[0]*30/self.acumulado30]]\n",
        "    print(tabulate(tabla_acumulados, headers='firstrow', tablefmt='fancy_grid'))\n",
        "    print(tabulate(tabla_parciales, headers='firstrow', tablefmt='fancy_grid'))\n",
        "    print(tabulate(tabla_velocidades, headers='firstrow', tablefmt='fancy_grid'))\n",
        "    print(tabulate(tabla_aceleraciones, headers='firstrow', tablefmt='fancy_grid'))\n",
        "    print(tabulate(tabla_fuerzas, headers='firstrow', tablefmt='fancy_grid'))\n",
        "    print(tabulate(tabla_potencias, headers='firstrow', tablefmt='fancy_grid'))\n",
        "    print(tabulate(tabla_total, headers='firstrow', tablefmt='fancy_grid'))\n"
      ],
      "metadata": {
        "id": "EN1hngP-vOZN"
      },
      "execution_count": null,
      "outputs": []
    },
    {
      "cell_type": "code",
      "execution_count": null,
      "metadata": {
        "colab": {
          "base_uri": "https://localhost:8080/"
        },
        "id": "COeuUMMTvJV-",
        "outputId": "c4e014fd-3565-41bc-df89-704dd7f6ff0a"
      },
      "outputs": [
        {
          "output_type": "stream",
          "name": "stdout",
          "text": [
            "╒══════════╤════════════╤════════════════╤═════════════════╤═════════════════╤═════════════════╕\n",
            "│   Inicio │ Reacción   │   Acumulado 5m │   Acumulado 10m │   Acumulado 20m │   Acumulado 30m │\n",
            "╞══════════╪════════════╪════════════════╪═════════════════╪═════════════════╪═════════════════╡\n",
            "│        0 │            │            1.2 │            2.43 │           3.212 │               5 │\n",
            "╘══════════╧════════════╧════════════════╧═════════════════╧═════════════════╧═════════════════╛\n",
            "╒══════════╤════════════╤══════════════╤═══════════════╤═══════════════╤═══════════════╕\n",
            "│   Inicio │ Reacción   │   Parcial 5m │   Parcial 10m │   Parcial 20m │   Parcial 30m │\n",
            "╞══════════╪════════════╪══════════════╪═══════════════╪═══════════════╪═══════════════╡\n",
            "│        0 │            │          1.2 │          1.23 │         0.782 │         1.788 │\n",
            "╘══════════╧════════════╧══════════════╧═══════════════╧═══════════════╧═══════════════╛\n",
            "╒══════════╤════════════╤════════════════╤═════════════════╤═════════════════╤═════════════════╕\n",
            "│   Inicio │ Reacción   │   velocidad 5m │   velocidad 10m │   velocidad 20m │   velocidad 30m │\n",
            "╞══════════╪════════════╪════════════════╪═════════════════╪═════════════════╪═════════════════╡\n",
            "│        0 │            │        4.16667 │         4.06504 │         12.7877 │         5.59284 │\n",
            "╘══════════╧════════════╧════════════════╧═════════════════╧═════════════════╧═════════════════╛\n",
            "╒══════════╤════════════╤══════════════════╤═══════════════════╤═══════════════════╤═══════════════════╕\n",
            "│   Inicio │ Reacción   │   aceleración 5m │   aceleración 10m │   aceleración 20m │   aceleración 30m │\n",
            "╞══════════╪════════════╪══════════════════╪═══════════════════╪═══════════════════╪═══════════════════╡\n",
            "│        0 │            │          3.47222 │           3.30491 │           16.3526 │           3.12799 │\n",
            "╘══════════╧════════════╧══════════════════╧═══════════════════╧═══════════════════╧═══════════════════╛\n",
            "╒══════════╤════════════╤═════════════╤══════════════╤══════════════╤══════════════╕\n",
            "│   Inicio │ Reacción   │   fuerza 5m │   fuerza 10m │   fuerza 20m │   fuerza 30m │\n",
            "╞══════════╪════════════╪═════════════╪══════════════╪══════════════╪══════════════╡\n",
            "│        0 │            │       187.5 │      178.465 │       883.04 │      168.911 │\n",
            "╘══════════╧════════════╧═════════════╧══════════════╧══════════════╧══════════════╛\n",
            "╒══════════╤════════════╤═══════════════╤════════════════╤════════════════╤════════════════╕\n",
            "│   Inicio │ Reacción   │   potencia 5m │   potencia 10m │   potencia 20m │   potencia 30m │\n",
            "╞══════════╪════════════╪═══════════════╪════════════════╪════════════════╪════════════════╡\n",
            "│        0 │            │        781.25 │        725.468 │        11292.1 │        944.694 │\n",
            "╘══════════╧════════════╧═══════════════╧════════════════╧════════════════╧════════════════╛\n",
            "╒═════════════╤═════════════════════╕\n",
            "│             │   Variables totales │\n",
            "╞═════════════╪═════════════════════╡\n",
            "│ Tiempo      │                 5   │\n",
            "├─────────────┼─────────────────────┤\n",
            "│ Velocidad   │                 6   │\n",
            "├─────────────┼─────────────────────┤\n",
            "│ Aceleración │                 1.2 │\n",
            "├─────────────┼─────────────────────┤\n",
            "│ Fuerza      │                64.8 │\n",
            "├─────────────┼─────────────────────┤\n",
            "│ Potencia    │               388.8 │\n",
            "╘═════════════╧═════════════════════╛\n"
          ]
        }
      ],
      "source": [
        "anita=Velocidad(54, 1.2, 2.43, 3.212, 5.0)\n",
        "anita.ejecutar()"
      ]
    }
  ]
}